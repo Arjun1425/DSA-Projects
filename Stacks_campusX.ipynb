{
 "cells": [
  {
   "cell_type": "markdown",
   "id": "c1e40332-7c57-4b03-8896-8b0554ad3a84",
   "metadata": {},
   "source": [
    "## Stacks: \n",
    "\n",
    "A stack is a linear data structure that follows the Last-In-First-Out (LIFO) principle, meaning the last element added is the first one to be removed—much like a stack of plates or pancakes.\n",
    "\n",
    "If LinkedList and List follow the Last-In-First-Out (LIFO) principle then they are stacks. \n",
    "\n",
    "1. Push: Add an element to the top of the stack.\n",
    "\n",
    "2. Pop: Remove and return the top element from the stack.\n",
    "\n",
    "3. Peek: View the top element without removing it.\n",
    "\n",
    "4. isEmpty: Check if the stack is empty.\n",
    "\n",
    "5. Size: Get the number of elements in the stack."
   ]
  },
  {
   "cell_type": "markdown",
   "id": "b8ec6a29-f2b0-4d84-8c90-a69f62b55d5a",
   "metadata": {},
   "source": [
    "### Details of Each Implementation\n",
    "\n",
    "1. Python List\n",
    "\n",
    "- Use .append() for push and .pop() for pop.\n",
    "- Very easy and intuitive.\n",
    "- Downsides: When the list grows beyond its allocated size, resizing can cause O(n) performance; not thread-safe.\n",
    "\n",
    "2. Linked List\n",
    "\n",
    "- Custom class where each node points to the next.\n",
    "- Push and pop are always O(1).\n",
    "- Downsides: More code and complexity; must handle node management."
   ]
  },
  {
   "cell_type": "markdown",
   "id": "6df974a5-fa8a-4b41-9591-5009a19a5986",
   "metadata": {},
   "source": [
    "### Real-World Examples Where Stacks Are Essential\n",
    "\n",
    "1. Undo/Redo Functionality\n",
    "- Use Case: Applications like text editors and image editors use two stacks—one for undo and one for redo. Each action is pushed onto the undo stack; undoing pops from this stack and pushes onto the redo stack.\n",
    "\n",
    "2. Browser Back/Forward Navigation\n",
    "- Use Case: Web browsers maintain a stack of visited pages (back stack) and a stack for forward navigation. Navigating back pops from the back stack and pushes onto the forward stack."
   ]
  },
  {
   "cell_type": "markdown",
   "id": "85d23353-7723-4933-81fc-cc81320ad93b",
   "metadata": {},
   "source": [
    "## Stacks using LL"
   ]
  },
  {
   "cell_type": "code",
   "execution_count": 25,
   "id": "306f073d-dbe1-4d81-ad22-4cdddec71eaf",
   "metadata": {},
   "outputs": [],
   "source": [
    "class Node:\n",
    "\n",
    "    def __init__(self, value):\n",
    "        self.data = value\n",
    "        self.next = None\n",
    "\n",
    "class Stack: \n",
    "\n",
    "    def __init__(self):\n",
    "        self.top = None\n",
    "        self.n = 0\n",
    "        \n",
    "    def isempty(self):\n",
    "        return self.top == None\n",
    "    \n",
    "    def size(self): \n",
    "        return self.n\n",
    "    \n",
    "    def push(self, value):\n",
    "        temp = Node(value)\n",
    "        temp.next = self.top\n",
    "        self.top = temp\n",
    "        self.n += 1\n",
    "\n",
    "    def traverse(self):\n",
    "        curr = self.top\n",
    "        str_ = ''\n",
    "        while curr != None:\n",
    "            str_ += str(curr.data) + '-'\n",
    "            curr = curr.next\n",
    "        return str_[:-1]    \n",
    "\n",
    "    def pop(self):\n",
    "        if self.top == None:\n",
    "            return \"Stack is empty.\"\n",
    "        self.top = self.top.next\n",
    "        self.n -= 1\n",
    "\n",
    "    def peek(self):\n",
    "        if self.top == None:\n",
    "            return \"Stack is empty\"\n",
    "        return self.top.data"
   ]
  },
  {
   "cell_type": "code",
   "execution_count": 26,
   "id": "a377fd21-1bcd-49d7-bcf3-3c3483d1defc",
   "metadata": {},
   "outputs": [
    {
     "name": "stdout",
     "output_type": "stream",
     "text": [
      "8-6-4-2\n",
      "6-4-2\n",
      "6\n",
      "3\n"
     ]
    }
   ],
   "source": [
    "s = Stack()\n",
    "\n",
    "s.push(2)\n",
    "s.push(4)\n",
    "s.push(6)\n",
    "s.push(8)\n",
    "\n",
    "print(s.traverse())\n",
    "\n",
    "s.pop()\n",
    "print(s.traverse())\n",
    "\n",
    "print(s.peek())\n",
    "\n",
    "print(s.size())"
   ]
  },
  {
   "cell_type": "markdown",
   "id": "9d51bc69-ded9-48e7-86fb-2e1fe6d84332",
   "metadata": {},
   "source": [
    "### Questions on Stacks. \n",
    "\n",
    "1. Reverse a string using stack. "
   ]
  },
  {
   "cell_type": "code",
   "execution_count": 58,
   "id": "d8a6dd2e-7eb2-4b28-9e26-efbf82ad8e1f",
   "metadata": {},
   "outputs": [],
   "source": [
    "class Node:\n",
    "\n",
    "    def __init__(self, value):\n",
    "        self.data = value\n",
    "        self.next = None\n",
    "\n",
    "class Stack: \n",
    "\n",
    "    def __init__(self):\n",
    "        self.top = None\n",
    "        self.n = 0\n",
    "        \n",
    "    def isempty(self):\n",
    "        return self.top == None\n",
    "    \n",
    "    def size(self): \n",
    "        return self.n\n",
    "    \n",
    "    def push(self, value):\n",
    "        temp = Node(value)\n",
    "        temp.next = self.top\n",
    "        self.top = temp\n",
    "        self.n += 1\n",
    "\n",
    "    def traverse(self):\n",
    "        curr = self.top\n",
    "        str_ = ''\n",
    "        while curr != None:\n",
    "            str_ += str(curr.data) + '-'\n",
    "            curr = curr.next\n",
    "        return str_[:-1]    \n",
    "\n",
    "    def pop(self):\n",
    "        if self.top == None:\n",
    "            return \"Stack is empty.\"\n",
    "        data = self.top.data\n",
    "        self.top = self.top.next\n",
    "        self.n -= 1\n",
    "        return data\n",
    "        \n",
    "    def peek(self):\n",
    "        if self.top == None:\n",
    "            return \"Stack is empty\"\n",
    "        return self.top.data        "
   ]
  },
  {
   "cell_type": "code",
   "execution_count": 59,
   "id": "9e01fc6e-d6de-4f37-98e9-45dacb3497fe",
   "metadata": {},
   "outputs": [],
   "source": [
    "def rev_text(text):\n",
    "    \n",
    "    s = Stack()\n",
    "    result = ''\n",
    "\n",
    "    for ele in text:\n",
    "        s.push(ele)\n",
    "\n",
    "    while not s.isempty():\n",
    "        temp = s.pop()\n",
    "        result += temp\n",
    "    return result"
   ]
  },
  {
   "cell_type": "code",
   "execution_count": 60,
   "id": "546c6ec2-632e-4929-9ecf-2b0aa15816f0",
   "metadata": {},
   "outputs": [
    {
     "data": {
      "text/plain": [
       "'olleH'"
      ]
     },
     "execution_count": 60,
     "metadata": {},
     "output_type": "execute_result"
    }
   ],
   "source": [
    "rev_text('Hello')"
   ]
  },
  {
   "cell_type": "markdown",
   "id": "53f8b46c-2d4b-4f0b-963d-862418054414",
   "metadata": {},
   "source": [
    "2. Text editor problem.\n",
    "-  You will get two strings.\n",
    "    - One is the main string.\n",
    "    - Another string stores the pattern. 'ururu' here u: undo, r: redo. "
   ]
  },
  {
   "cell_type": "code",
   "execution_count": 68,
   "id": "3b17e084-04d1-4d82-953a-6bbb5a867a3f",
   "metadata": {},
   "outputs": [],
   "source": [
    "def undo_redo(text, pattern):\n",
    "\n",
    "    undo = Stack()\n",
    "    redo = Stack()\n",
    "    for ele in text:\n",
    "        undo.push(ele)\n",
    "\n",
    "    for ele in pattern:\n",
    "\n",
    "        if ele == 'u':\n",
    "            redo.push(undo.pop())\n",
    "        elif ele == 'r':\n",
    "            undo.push(redo.peek())\n",
    "    \n",
    "    return undo    "
   ]
  },
  {
   "cell_type": "code",
   "execution_count": 69,
   "id": "fd956045-da6b-4aff-beb0-c3fb87dde56f",
   "metadata": {},
   "outputs": [
    {
     "data": {
      "text/plain": [
       "'o-o-o-l-l-e-H'"
      ]
     },
     "execution_count": 69,
     "metadata": {},
     "output_type": "execute_result"
    }
   ],
   "source": [
    "undo_redo('Hello', 'urrr').traverse()"
   ]
  }
 ],
 "metadata": {
  "kernelspec": {
   "display_name": "Python 3 (ipykernel)",
   "language": "python",
   "name": "python3"
  },
  "language_info": {
   "codemirror_mode": {
    "name": "ipython",
    "version": 3
   },
   "file_extension": ".py",
   "mimetype": "text/x-python",
   "name": "python",
   "nbconvert_exporter": "python",
   "pygments_lexer": "ipython3",
   "version": "3.11.8"
  }
 },
 "nbformat": 4,
 "nbformat_minor": 5
}
