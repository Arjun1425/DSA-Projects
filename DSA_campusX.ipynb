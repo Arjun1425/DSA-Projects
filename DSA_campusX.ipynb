{
 "cells": [
  {
   "cell_type": "markdown",
   "id": "1f7fe130-9970-4de1-bc20-21cb323be679",
   "metadata": {},
   "source": [
    "# Static array\n",
    "Stores elements contagiously in memory. If you know the location of the first element you can calculate the location of any elements in the array.\n",
    "\n",
    "Disadvantage: \n",
    "1. Fixed Size (memory waste).\n",
    "2. Homogeneous (lack of flexibility)\n",
    "\n",
    "# Referential array \n",
    "A referential array in Python is a data structure that stores references (memory addresses) to the actual objects, rather than storing the objects themselves directly within the array. This approach offers flexibility, allowing arrays to hold elements of different data types. \n",
    "\n",
    "1. Lists and tuples in Python are examples of referential arrays.\n",
    "2. In Python, lists are implemented as dynamic arrays, which means they store references to objects, not the objects themselves. These references are stored contiguously in memory. Therefore, while the list's references are contiguous, the actual objects they point to may be scattered throughout memory.\n",
    "\n",
    "Disadvantage:\n",
    "1. Take some more space than dynamic.\n",
    "2. Take more time than dynamic. Because you first go to the references, then go to that reference in memory to extract the value. "
   ]
  },
  {
   "cell_type": "markdown",
   "id": "520b9c42-55b2-4b75-832b-3ff4aca67f24",
   "metadata": {},
   "source": [
    "# Dynamic array\n",
    "A dynamic array, also known as a resizable array, is an array that can automatically adjust its size as needed during runtime. In Python, the built-in list type functions as a dynamic array. Unlike static arrays, which have a fixed size defined at compile time, dynamic arrays can grow or shrink to accommodate changes in the number of elements."
   ]
  },
  {
   "cell_type": "markdown",
   "id": "3cffda15-0369-4f48-906f-a0324d03ea76",
   "metadata": {},
   "source": [
    "Making my own list class (Dynamic array). "
   ]
  },
  {
   "cell_type": "code",
   "execution_count": 1,
   "id": "2d8872b2-f207-473c-bf71-6f6cad043153",
   "metadata": {},
   "outputs": [
    {
     "name": "stdout",
     "output_type": "stream",
     "text": [
      "10 56\n",
      "20 88\n",
      "30 88\n",
      "40 88\n",
      "50 88\n",
      "60 120\n",
      "70 120\n",
      "80 120\n",
      "90 120\n"
     ]
    }
   ],
   "source": [
    "import sys\n",
    "L = []\n",
    "\n",
    "for i in range(10,100,10):\n",
    "    print(i, sys.getsizeof(L))\n",
    "    L.append(i)"
   ]
  },
  {
   "cell_type": "markdown",
   "id": "9f7ffb7d-18f2-4243-b6ef-2b201c18cdf0",
   "metadata": {},
   "source": [
    "ctype: The ctypes module in Python provides a way to interact with C code, specifically by allowing you to call functions from shared libraries (DLLs or SO files) and manipulate C data types from within Python."
   ]
  },
  {
   "cell_type": "code",
   "execution_count": 2,
   "id": "b838e602-20ba-448f-8f90-a484d7d85afe",
   "metadata": {},
   "outputs": [],
   "source": [
    "import ctypes"
   ]
  },
  {
   "cell_type": "code",
   "execution_count": 3,
   "id": "5ab630ec-84f7-44de-ba63-82fec7859527",
   "metadata": {},
   "outputs": [],
   "source": [
    "# 1. Make a List. \n",
    "\n",
    "class MakeList():\n",
    "\n",
    "    def __init__(self):\n",
    "        self.size = 1\n",
    "        self.n = 0\n",
    "        # Create a C type array (referential and static) with size = self.size\n",
    "        self.A = self.__make_array(self.size)\n",
    "\n",
    "    def __make_array(self,capacity):\n",
    "        # This code creates ctype array (referential and static) with size = capacity.\n",
    "        return (capacity*ctypes.py_object)()"
   ]
  },
  {
   "cell_type": "code",
   "execution_count": 4,
   "id": "7844c277-fd07-407d-b9c9-aff68f37818a",
   "metadata": {},
   "outputs": [
    {
     "name": "stdout",
     "output_type": "stream",
     "text": [
      "<__main__.MakeList object at 0x107e594d0>\n"
     ]
    }
   ],
   "source": [
    "L = MakeList()\n",
    "print(L)         # Memory location of the object (L)"
   ]
  },
  {
   "cell_type": "code",
   "execution_count": 5,
   "id": "d94bbb3a-323b-4aee-9098-7f07f63fdc06",
   "metadata": {},
   "outputs": [],
   "source": [
    "# 2. Add a method to calculate the length. \n",
    "\n",
    "class MeraList():\n",
    "\n",
    "    def __init__(self):\n",
    "        self.size = 1\n",
    "        self.n = 0\n",
    "        self.A = self.__make_array(self.size)\n",
    "\n",
    "    def __make_array(self, capacity):\n",
    "        return (capacity*ctypes.py_object)()\n",
    "\n",
    "    def __len__(self):\n",
    "        return self.n"
   ]
  },
  {
   "cell_type": "code",
   "execution_count": 6,
   "id": "19bb3a0c-4634-4d36-9185-5d081ec21ee1",
   "metadata": {},
   "outputs": [
    {
     "data": {
      "text/plain": [
       "0"
      ]
     },
     "execution_count": 6,
     "metadata": {},
     "output_type": "execute_result"
    }
   ],
   "source": [
    "L = MeraList()\n",
    "len(L)"
   ]
  },
  {
   "cell_type": "code",
   "execution_count": 7,
   "id": "0e4769cf-ea38-4027-9b87-32c302b49cf3",
   "metadata": {},
   "outputs": [],
   "source": [
    "# 3. Adding append feature in the list. \n",
    "class MeraList():\n",
    "\n",
    "    def __init__(self):\n",
    "        self.size = 1\n",
    "        self.n = 0\n",
    "        self.A = self.__make_array(self.size)\n",
    "\n",
    "    def __make_array(self, capacity):\n",
    "        return (capacity*ctypes.py_object)()\n",
    "\n",
    "    def __len__(self):\n",
    "        return self.n\n",
    "\n",
    "    def append(self, item):\n",
    "        if self.n == self.size:\n",
    "            # resize the array (make a new array of double the size and copy the whole content in it)\n",
    "            self.__resize(self.size*2)\n",
    "        # Appending the element in the array. \n",
    "        self.A[self.n] = item\n",
    "        self.n = self.n + 1\n",
    "\n",
    "    def __resize(self, new_capacity):\n",
    "        B = self.__make_array(new_capacity)\n",
    "        self.size = new_capacity\n",
    "        # Copying elements of A into new array B. \n",
    "        for i in range(self.n):\n",
    "            B[i] = self.A[i]\n",
    "        # Converting A into B. Coz every other method is defined using A. \n",
    "        self.A = B"
   ]
  },
  {
   "cell_type": "code",
   "execution_count": 8,
   "id": "df4985da-b644-4edd-9ca4-70516ee37056",
   "metadata": {},
   "outputs": [
    {
     "data": {
      "text/plain": [
       "5"
      ]
     },
     "execution_count": 8,
     "metadata": {},
     "output_type": "execute_result"
    }
   ],
   "source": [
    "L = MeraList()\n",
    "L.append(\"Hello\")\n",
    "L.append(\"World\")\n",
    "L.append(3)\n",
    "L.append(5)\n",
    "L.append(True)\n",
    "len(L)"
   ]
  },
  {
   "cell_type": "code",
   "execution_count": 9,
   "id": "eb3e3df2-5026-4cbf-961e-73f1422ffa43",
   "metadata": {},
   "outputs": [],
   "source": [
    "# 4. Adding print feature to the list. \n",
    "\n",
    "class MeraList():\n",
    "\n",
    "    def __init__(self):\n",
    "        self.size = 1\n",
    "        self.n = 0\n",
    "        self.A = self.__make_array(self.size)\n",
    "\n",
    "    def __make_array(self, capacity):\n",
    "        return (capacity*ctypes.py_object)()\n",
    "\n",
    "    def __len__(self):\n",
    "        return self.n\n",
    "\n",
    "    def append(self, item):\n",
    "        if self.n == self.size:\n",
    "            # resize the array (make a new array of double the size and copy the whole content in it)\n",
    "            self.__resize(self.size*2)\n",
    "        # Appending the element in the array. \n",
    "        self.A[self.n] = item\n",
    "        self.n = self.n + 1\n",
    "\n",
    "    def __resize(self, new_capacity):\n",
    "        B = self.__make_array(new_capacity)\n",
    "        self.size = new_capacity\n",
    "        # Copying elements of A into new array B. \n",
    "        for i in range(self.n):\n",
    "            B[i] = self.A[i]\n",
    "        # Converting A into B. Coz every other method is defined using A. \n",
    "        self.A = B\n",
    "\n",
    "    def __str__(self):\n",
    "        result = ''\n",
    "        for i in range(self.n):\n",
    "            result = result + str(self.A[i]) + \",\"\n",
    "        return '[' + result[:-1] + ']'"
   ]
  },
  {
   "cell_type": "code",
   "execution_count": 10,
   "id": "5c21245f-9a9a-4605-8d32-4fe779e1eaf1",
   "metadata": {},
   "outputs": [
    {
     "name": "stdout",
     "output_type": "stream",
     "text": [
      "[3,Hello]\n",
      "[3,Hello,45]\n",
      "<class '__main__.MeraList'>\n"
     ]
    }
   ],
   "source": [
    "L = MeraList()\n",
    "L.append(3)\n",
    "L.append('Hello')\n",
    "print(L)\n",
    "L.append(45)\n",
    "print(L)\n",
    "print(type(L))"
   ]
  },
  {
   "cell_type": "code",
   "execution_count": 11,
   "id": "743f1e6a-5b4b-495d-b37a-439083fec59e",
   "metadata": {},
   "outputs": [],
   "source": [
    "# 5. Adding indexing feature to the list. \n",
    "\n",
    "class MeraList():\n",
    "\n",
    "    def __init__(self):\n",
    "        self.size = 1\n",
    "        self.n = 0\n",
    "        self.A = self.__make_array(self.size)\n",
    "\n",
    "    def __make_array(self, capacity):\n",
    "        return (capacity*ctypes.py_object)()\n",
    "\n",
    "    def __len__(self):\n",
    "        return self.n\n",
    "\n",
    "    def append(self, item):\n",
    "        if self.n == self.size:\n",
    "            # resize the array (make a new array of double the size and copy the whole content in it)\n",
    "            self.__resize(self.size*2)\n",
    "        # Appending the element in the array. \n",
    "        self.A[self.n] = item\n",
    "        self.n = self.n + 1\n",
    "\n",
    "    def __resize(self, new_capacity):\n",
    "        B = self.__make_array(new_capacity)\n",
    "        self.size = new_capacity\n",
    "        # Copying elements of A into new array B. \n",
    "        for i in range(self.n):\n",
    "            B[i] = self.A[i]\n",
    "        # Converting A into B. Coz every other method is defined using A. \n",
    "        self.A = B\n",
    "\n",
    "    def __str__(self):\n",
    "        result = ''\n",
    "        for i in range(self.n):\n",
    "            result = result + str(self.A[i]) + \",\"\n",
    "        return '[' + result[:-1] + ']'\n",
    "\n",
    "    def __getitem__(self, index):\n",
    "        if 0 <= index <= self.n:\n",
    "            return self.A[index]\n",
    "        else:\n",
    "            return \"Index out of range\""
   ]
  },
  {
   "cell_type": "code",
   "execution_count": 12,
   "id": "fc9ad434-0559-4ceb-989d-de8e7b30e5d7",
   "metadata": {},
   "outputs": [
    {
     "name": "stdout",
     "output_type": "stream",
     "text": [
      "[3,Hello,8,World]\n",
      "Hello\n"
     ]
    }
   ],
   "source": [
    "L = MeraList()\n",
    "L.append(3)\n",
    "L.append('Hello')\n",
    "L.append(8)\n",
    "L.append('World')\n",
    "print(L)\n",
    "L.append(45)\n",
    "print(L[1])"
   ]
  },
  {
   "cell_type": "code",
   "execution_count": 13,
   "id": "ea5e8250-285b-4cec-a203-ef2bbaf25a8e",
   "metadata": {},
   "outputs": [],
   "source": [
    "# 6. Adding pop feature in a list. \n",
    "\n",
    "class MeraList():\n",
    "\n",
    "    def __init__(self):\n",
    "        self.size = 1\n",
    "        self.n = 0\n",
    "        self.A = self.__make_array(self.size)\n",
    "\n",
    "    def __make_array(self, capacity):\n",
    "        return (capacity*ctypes.py_object)()\n",
    "\n",
    "    def __len__(self):\n",
    "        return self.n\n",
    "\n",
    "    def append(self, item):\n",
    "        if self.n == self.size:\n",
    "            # resize the array (make a new array of double the size and copy the whole content in it)\n",
    "            self.__resize(self.size*2)\n",
    "        # Appending the element in the array. \n",
    "        self.A[self.n] = item\n",
    "        self.n = self.n + 1\n",
    "\n",
    "    def __resize(self, new_capacity):\n",
    "        B = self.__make_array(new_capacity)\n",
    "        self.size = new_capacity\n",
    "        # Copying elements of A into new array B. \n",
    "        for i in range(self.n):\n",
    "            B[i] = self.A[i]\n",
    "        # Converting A into B. Coz every other method is defined using A. \n",
    "        self.A = B\n",
    "\n",
    "    def __str__(self):\n",
    "        result = ''\n",
    "        for i in range(self.n):\n",
    "            result = result + str(self.A[i]) + \",\"\n",
    "        return '[' + result[:-1] + ']'\n",
    "\n",
    "    def __getitem__(self, index):\n",
    "        if 0 <= index <= self.n:\n",
    "            return self.A[index]\n",
    "        else:\n",
    "            return \"Index out of range\"\n",
    "\n",
    "    def pop(self):\n",
    "        if self.n != 0:\n",
    "            print(self.A[self.n - 1])\n",
    "            self.n = self.n - 1\n",
    "        else:\n",
    "            return \"No element present in the list\"\n",
    "        "
   ]
  },
  {
   "cell_type": "code",
   "execution_count": 14,
   "id": "6c7038c2-5eea-4a6a-9f55-dc1374e73c7f",
   "metadata": {},
   "outputs": [
    {
     "name": "stdout",
     "output_type": "stream",
     "text": [
      "[3,Hello,8,World,45]\n",
      "Hello\n",
      "45\n",
      "[3,Hello,8,World]\n"
     ]
    }
   ],
   "source": [
    "L = MeraList()\n",
    "L.append(3)\n",
    "L.append('Hello')\n",
    "L.append(8)\n",
    "L.append('World')\n",
    "L.append(45)\n",
    "print(L)\n",
    "print(L[1])\n",
    "L.pop()\n",
    "print(L)"
   ]
  },
  {
   "cell_type": "code",
   "execution_count": 16,
   "id": "70cc3ffe-96b4-4859-a7c9-d1a95fd6d3a5",
   "metadata": {},
   "outputs": [],
   "source": [
    "# 7. Adding clear function to the list. \n",
    "\n",
    "class MeraList():\n",
    "\n",
    "    def __init__(self):\n",
    "        self.size = 1\n",
    "        self.n = 0\n",
    "        self.A = self.__make_array(self.size)\n",
    "\n",
    "    def __make_array(self, capacity):\n",
    "        return (capacity*ctypes.py_object)()\n",
    "\n",
    "    def __len__(self):\n",
    "        return self.n\n",
    "\n",
    "    def append(self, item):\n",
    "        if self.n == self.size:\n",
    "            # resize the array (make a new array of double the size and copy the whole content in it)\n",
    "            self.__resize(self.size*2)\n",
    "        # Appending the element in the array. \n",
    "        self.A[self.n] = item\n",
    "        self.n = self.n + 1\n",
    "\n",
    "    def __resize(self, new_capacity):\n",
    "        B = self.__make_array(new_capacity)\n",
    "        self.size = new_capacity\n",
    "        # Copying elements of A into new array B. \n",
    "        for i in range(self.n):\n",
    "            B[i] = self.A[i]\n",
    "        # Converting A into B. Coz every other method is defined using A. \n",
    "        self.A = B\n",
    "\n",
    "    def __str__(self):\n",
    "        result = ''\n",
    "        for i in range(self.n):\n",
    "            result = result + str(self.A[i]) + \",\"\n",
    "        return '[' + result[:-1] + ']'\n",
    "\n",
    "    def __getitem__(self, index):\n",
    "        if 0 <= index <= self.n:\n",
    "            return self.A[index]\n",
    "        else:\n",
    "            return \"Index out of range\"\n",
    "\n",
    "    def pop(self):\n",
    "        if self.n != 0:\n",
    "            print(self.A[self.n - 1])\n",
    "            self.n = self.n - 1\n",
    "        else:\n",
    "            return \"No element present in the list\"\n",
    "\n",
    "    def clear(self):\n",
    "        self.n = 0 \n",
    "        self.size = 1"
   ]
  },
  {
   "cell_type": "code",
   "execution_count": 17,
   "id": "08ace6fc-f4d5-4f24-8fc6-6c560e1e0ea4",
   "metadata": {},
   "outputs": [
    {
     "name": "stdout",
     "output_type": "stream",
     "text": [
      "[3,Hello,8,World,45]\n",
      "Hello\n",
      "45\n",
      "[3,Hello,8,World]\n",
      "[]\n"
     ]
    }
   ],
   "source": [
    "L = MeraList()\n",
    "L.append(3)\n",
    "L.append('Hello')\n",
    "L.append(8)\n",
    "L.append('World')\n",
    "L.append(45)\n",
    "print(L)\n",
    "print(L[1])\n",
    "L.pop()\n",
    "print(L)\n",
    "L.clear()\n",
    "print(L)"
   ]
  },
  {
   "cell_type": "code",
   "execution_count": 19,
   "id": "efc21a66-e408-44f7-b54a-c26b9261b956",
   "metadata": {},
   "outputs": [],
   "source": [
    "# 8. Adding find method in the list. \n",
    "\n",
    "class MeraList():\n",
    "\n",
    "    def __init__(self):\n",
    "        self.size = 1\n",
    "        self.n = 0\n",
    "        self.A = self.__make_array(self.size)\n",
    "\n",
    "    def __make_array(self, capacity):\n",
    "        return (capacity*ctypes.py_object)()\n",
    "\n",
    "    def __len__(self):\n",
    "        return self.n\n",
    "\n",
    "    def append(self, item):\n",
    "        if self.n == self.size:\n",
    "            # resize the array (make a new array of double the size and copy the whole content in it)\n",
    "            self.__resize(self.size*2)\n",
    "        # Appending the element in the array. \n",
    "        self.A[self.n] = item\n",
    "        self.n = self.n + 1\n",
    "\n",
    "    def __resize(self, new_capacity):\n",
    "        B = self.__make_array(new_capacity)\n",
    "        self.size = new_capacity\n",
    "        # Copying elements of A into new array B. \n",
    "        for i in range(self.n):\n",
    "            B[i] = self.A[i]\n",
    "        # Converting A into B. Coz every other method is defined using A. \n",
    "        self.A = B\n",
    "\n",
    "    def __str__(self):\n",
    "        result = ''\n",
    "        for i in range(self.n):\n",
    "            result = result + str(self.A[i]) + \",\"\n",
    "        return '[' + result[:-1] + ']'\n",
    "\n",
    "    def __getitem__(self, index):\n",
    "        if 0 <= index <= self.n:\n",
    "            return self.A[index]\n",
    "        else:\n",
    "            return \"Index out of range\"\n",
    "\n",
    "    def pop(self):\n",
    "        if self.n != 0:\n",
    "            print(self.A[self.n - 1])\n",
    "            self.n = self.n - 1\n",
    "        else:\n",
    "            return \"No element present in the list\"\n",
    "\n",
    "    def clear(self):\n",
    "        self.n = 0 \n",
    "        self.size = 1\n",
    "\n",
    "    def find(self, item):\n",
    "        for i in range(self.n):\n",
    "            if self.A[i] == item:\n",
    "                return i\n",
    "        return \"Not in the list\"            "
   ]
  },
  {
   "cell_type": "code",
   "execution_count": 20,
   "id": "5a80bcd8-2cef-4cfa-ad50-6a4fcf3662e3",
   "metadata": {},
   "outputs": [
    {
     "name": "stdout",
     "output_type": "stream",
     "text": [
      "[3,Hello,8,World,45]\n",
      "Hello\n",
      "45\n",
      "[3,Hello,8,World]\n"
     ]
    },
    {
     "data": {
      "text/plain": [
       "3"
      ]
     },
     "execution_count": 20,
     "metadata": {},
     "output_type": "execute_result"
    }
   ],
   "source": [
    "L = MeraList()\n",
    "L.append(3)\n",
    "L.append('Hello')\n",
    "L.append(8)\n",
    "L.append('World')\n",
    "L.append(45)\n",
    "print(L)\n",
    "print(L[1])\n",
    "L.pop()\n",
    "print(L)\n",
    "L.find('World')"
   ]
  },
  {
   "cell_type": "code",
   "execution_count": 21,
   "id": "96e81101-c49d-4036-8656-da9cb1709832",
   "metadata": {},
   "outputs": [],
   "source": [
    "# 9. Adding insert method in the list. \n",
    "\n",
    "class MeraList():\n",
    "\n",
    "    def __init__(self):\n",
    "        self.size = 1\n",
    "        self.n = 0\n",
    "        self.A = self.__make_array(self.size)\n",
    "\n",
    "    def __make_array(self, capacity):\n",
    "        return (capacity*ctypes.py_object)()\n",
    "\n",
    "    def __len__(self):\n",
    "        return self.n\n",
    "\n",
    "    def append(self, item):\n",
    "        if self.n == self.size:\n",
    "            # resize the array (make a new array of double the size and copy the whole content in it)\n",
    "            self.__resize(self.size*2)\n",
    "        # Appending the element in the array. \n",
    "        self.A[self.n] = item\n",
    "        self.n = self.n + 1\n",
    "\n",
    "    def __resize(self, new_capacity):\n",
    "        B = self.__make_array(new_capacity)\n",
    "        self.size = new_capacity\n",
    "        # Copying elements of A into new array B. \n",
    "        for i in range(self.n):\n",
    "            B[i] = self.A[i]\n",
    "        # Converting A into B. Coz every other method is defined using A. \n",
    "        self.A = B\n",
    "\n",
    "    def __str__(self):\n",
    "        result = ''\n",
    "        for i in range(self.n):\n",
    "            result = result + str(self.A[i]) + \",\"\n",
    "        return '[' + result[:-1] + ']'\n",
    "\n",
    "    def __getitem__(self, index):\n",
    "        if 0 <= index <= self.n:\n",
    "            return self.A[index]\n",
    "        else:\n",
    "            return \"Index out of range\"\n",
    "\n",
    "    def pop(self):\n",
    "        if self.n != 0:\n",
    "            print(self.A[self.n - 1])\n",
    "            self.n = self.n - 1\n",
    "        else:\n",
    "            return \"No element present in the list\"\n",
    "\n",
    "    def clear(self):\n",
    "        self.n = 0 \n",
    "        self.size = 1\n",
    "\n",
    "    def find(self, item):\n",
    "        for i in range(self.n):\n",
    "            if self.A[i] == item:\n",
    "                return i\n",
    "        return \"Not in the list\" \n",
    "\n",
    "    def insert(self, pos, item):\n",
    "        if self.n == self.size:\n",
    "            self.__resize(self.size*2)\n",
    "\n",
    "        for i in range(self.n, pos,-1):\n",
    "            self.A[i] = self.A[i - 1]\n",
    "\n",
    "        self.A[pos] = item\n",
    "        self.n = self.n + 1"
   ]
  },
  {
   "cell_type": "code",
   "execution_count": 23,
   "id": "c47ada24-91fe-4b49-bec4-fd9951a22389",
   "metadata": {},
   "outputs": [
    {
     "name": "stdout",
     "output_type": "stream",
     "text": [
      "[3,Hello,8,World,45]\n",
      "Hello\n",
      "45\n",
      "[3,Hello,8,World]\n",
      "[3,Hello,8,World]\n",
      "[5,3,Hello,8,World]\n"
     ]
    }
   ],
   "source": [
    "L = MeraList()\n",
    "L.append(3)\n",
    "L.append('Hello')\n",
    "L.append(8)\n",
    "L.append('World')\n",
    "L.append(45)\n",
    "print(L)\n",
    "print(L[1])\n",
    "L.pop()\n",
    "print(L)\n",
    "L.find('World')\n",
    "print(L)\n",
    "L.insert(0,5)\n",
    "print(L)"
   ]
  },
  {
   "cell_type": "code",
   "execution_count": 31,
   "id": "9832c08e-db93-4096-bd1d-5e11cbbc21a9",
   "metadata": {},
   "outputs": [],
   "source": [
    "# 10. Adding delete method in the list. \n",
    "\n",
    "class MeraList():\n",
    "\n",
    "    def __init__(self):\n",
    "        self.size = 1\n",
    "        self.n = 0\n",
    "        self.A = self.__make_array(self.size)\n",
    "\n",
    "    def __make_array(self, capacity):\n",
    "        return (capacity*ctypes.py_object)()\n",
    "\n",
    "    def __len__(self):\n",
    "        return self.n\n",
    "\n",
    "    def append(self, item):\n",
    "        if self.n == self.size:\n",
    "            # resize the array (make a new array of double the size and copy the whole content in it)\n",
    "            self.__resize(self.size*2)\n",
    "        # Appending the element in the array. \n",
    "        self.A[self.n] = item\n",
    "        self.n = self.n + 1\n",
    "\n",
    "    def __resize(self, new_capacity):\n",
    "        B = self.__make_array(new_capacity)\n",
    "        self.size = new_capacity\n",
    "        # Copying elements of A into new array B. \n",
    "        for i in range(self.n):\n",
    "            B[i] = self.A[i]\n",
    "        # Converting A into B. Coz every other method is defined using A. \n",
    "        self.A = B\n",
    "\n",
    "    def __str__(self):\n",
    "        result = ''\n",
    "        for i in range(self.n):\n",
    "            result = result + str(self.A[i]) + \",\"\n",
    "        return '[' + result[:-1] + ']'\n",
    "\n",
    "    def __getitem__(self, index):\n",
    "        if 0 <= index <= self.n:\n",
    "            return self.A[index]\n",
    "        else:\n",
    "            return \"Index out of range\"\n",
    "\n",
    "    def pop(self):\n",
    "        if self.n != 0:\n",
    "            print(self.A[self.n - 1])\n",
    "            self.n = self.n - 1\n",
    "        else:\n",
    "            return \"No element present in the list\"\n",
    "\n",
    "    def clear(self):\n",
    "        self.n = 0 \n",
    "        self.size = 1\n",
    "\n",
    "    def find(self, item):\n",
    "        for i in range(self.n):\n",
    "            if self.A[i] == item:\n",
    "                return i\n",
    "        return \"Not in the list\" \n",
    "\n",
    "    def insert(self, pos, item):\n",
    "        if self.n == self.size:\n",
    "            self.__resize(self.size*2)\n",
    "\n",
    "        for i in range(self.n, pos,-1):\n",
    "            self.A[i] = self.A[i - 1]\n",
    "\n",
    "        self.A[pos] = item\n",
    "        self.n = self.n + 1\n",
    "\n",
    "    def __delitem__(self, pos):\n",
    "        if 0 <= pos <= self.n:\n",
    "            for i in range(pos, self.n - 1):\n",
    "                self.A[i] = self.A[i + 1]\n",
    "            self.n = self.n - 1"
   ]
  },
  {
   "cell_type": "code",
   "execution_count": 32,
   "id": "503de794-28a8-4c40-8c42-6cff02b02822",
   "metadata": {},
   "outputs": [
    {
     "name": "stdout",
     "output_type": "stream",
     "text": [
      "[3,Hello,8,World,45]\n",
      "Hello\n",
      "45\n",
      "[3,Hello,8,World]\n",
      "[3,Hello,8,World]\n",
      "[5,3,Hello,8,World]\n",
      "[3,Hello,8,World]\n"
     ]
    }
   ],
   "source": [
    "L = MeraList()\n",
    "L.append(3)\n",
    "L.append('Hello')\n",
    "L.append(8)\n",
    "L.append('World')\n",
    "L.append(45)\n",
    "print(L)\n",
    "print(L[1])\n",
    "L.pop()\n",
    "print(L)\n",
    "L.find('World')\n",
    "print(L)\n",
    "L.insert(0,5)\n",
    "print(L)\n",
    "del L[0]\n",
    "print(L)"
   ]
  },
  {
   "cell_type": "code",
   "execution_count": 34,
   "id": "39a5312f-f9db-4621-814d-35cf8a6b1732",
   "metadata": {},
   "outputs": [],
   "source": [
    "# 11. Adding remove method in the list. \n",
    "\n",
    "class MeraList():\n",
    "\n",
    "    def __init__(self):\n",
    "        self.size = 1\n",
    "        self.n = 0\n",
    "        self.A = self.__make_array(self.size)\n",
    "\n",
    "    def __make_array(self, capacity):\n",
    "        return (capacity*ctypes.py_object)()\n",
    "\n",
    "    def __len__(self):\n",
    "        return self.n\n",
    "\n",
    "    def append(self, item):\n",
    "        if self.n == self.size:\n",
    "            # resize the array (make a new array of double the size and copy the whole content in it)\n",
    "            self.__resize(self.size*2)\n",
    "        # Appending the element in the array. \n",
    "        self.A[self.n] = item\n",
    "        self.n = self.n + 1\n",
    "\n",
    "    def __resize(self, new_capacity):\n",
    "        B = self.__make_array(new_capacity)\n",
    "        self.size = new_capacity\n",
    "        # Copying elements of A into new array B. \n",
    "        for i in range(self.n):\n",
    "            B[i] = self.A[i]\n",
    "        # Converting A into B. Coz every other method is defined using A. \n",
    "        self.A = B\n",
    "\n",
    "    def __str__(self):\n",
    "        result = ''\n",
    "        for i in range(self.n):\n",
    "            result = result + str(self.A[i]) + \",\"\n",
    "        return '[' + result[:-1] + ']'\n",
    "\n",
    "    def __getitem__(self, index):\n",
    "        if 0 <= index <= self.n:\n",
    "            return self.A[index]\n",
    "        else:\n",
    "            return \"Index out of range\"\n",
    "\n",
    "    def pop(self):\n",
    "        if self.n != 0:\n",
    "            print(self.A[self.n - 1])\n",
    "            self.n = self.n - 1\n",
    "        else:\n",
    "            return \"No element present in the list\"\n",
    "\n",
    "    def clear(self):\n",
    "        self.n = 0 \n",
    "        self.size = 1\n",
    "\n",
    "    def find(self, item):\n",
    "        for i in range(self.n):\n",
    "            if self.A[i] == item:\n",
    "                return i\n",
    "        return \"Not in the list\" \n",
    "\n",
    "    def insert(self, pos, item):\n",
    "        if self.n == self.size:\n",
    "            self.__resize(self.size*2)\n",
    "\n",
    "        for i in range(self.n, pos,-1):\n",
    "            self.A[i] = self.A[i - 1]\n",
    "\n",
    "        self.A[pos] = item\n",
    "        self.n = self.n + 1\n",
    "\n",
    "    def __delitem__(self, pos):\n",
    "        if 0 <= pos <= self.n:\n",
    "            for i in range(pos, self.n - 1):\n",
    "                self.A[i] = self.A[i + 1]\n",
    "            self.n = self.n - 1\n",
    "\n",
    "    def remove(self, item):\n",
    "        pos = self.find(item)\n",
    "        if type(pos) == int:    \n",
    "            self.__delitem__(pos)\n",
    "        else: \n",
    "            return pos"
   ]
  },
  {
   "cell_type": "code",
   "execution_count": 35,
   "id": "949246b7-3109-4a9a-af1a-c41fd173a94c",
   "metadata": {},
   "outputs": [
    {
     "name": "stdout",
     "output_type": "stream",
     "text": [
      "[3,Hello,8,World,45]\n",
      "Hello\n",
      "45\n",
      "[3,Hello,8,World]\n",
      "[3,Hello,8,World]\n",
      "[5,3,Hello,8,World]\n",
      "[3,Hello,8,World]\n",
      "[3,Hello,World]\n"
     ]
    }
   ],
   "source": [
    "L = MeraList()\n",
    "L.append(3)\n",
    "L.append('Hello')\n",
    "L.append(8)\n",
    "L.append('World')\n",
    "L.append(45)\n",
    "print(L)\n",
    "print(L[1])\n",
    "L.pop()\n",
    "print(L)\n",
    "L.find('World')\n",
    "print(L)\n",
    "L.insert(0,5)\n",
    "print(L)\n",
    "del L[0]\n",
    "print(L)\n",
    "L.remove(8)\n",
    "print(L)"
   ]
  },
  {
   "cell_type": "markdown",
   "id": "6b9818d6-412a-47b2-9cc0-a90520bf125e",
   "metadata": {},
   "source": [
    "Add other methods:\n",
    "\n",
    "12. sort\n",
    "13. min\n",
    "14. max\n",
    "15. sum\n",
    "16. extend\n",
    "17. slicing\n",
    "18. Merge (using add)"
   ]
  },
  {
   "cell_type": "markdown",
   "id": "e600aff6-d5ca-4dd7-b3da-23631fd70b48",
   "metadata": {},
   "source": [
    "# LinkedList\n",
    "\n",
    "How does it work?\n",
    "LL is a collection of nodes. Node: data (int, float, str etc) and its' address. \n",
    "\n",
    "Why do we need LL?\n",
    "\n",
    "1. In case of insertion and deletion if we have too many elements we will have to move a lot. \n",
    "eg: To-do list (adding and deleting quickly).\n",
    "LL write operation has O(1) time complexity.\n",
    "\n",
    "2. In an array some memory remains unutilized.\n",
    "\n",
    "3. Using LL you can create more data structure (stack, doubly LL, circular LL etc)\n",
    "\n",
    "LL flaws:\n",
    "\n",
    "1. Read operation O(n). Because it goes sequentially. In an Array, it is easy: A[i], O(1) time complexity.\n",
    "\n",
    "**LL is a linear data structure, which stores in memory in non-contiguous manner.**"
   ]
  },
  {
   "cell_type": "code",
   "execution_count": 1,
   "id": "d64e246c-d4ef-4c50-958c-04d87ec7a274",
   "metadata": {},
   "outputs": [],
   "source": [
    "class Node:\n",
    "\n",
    "    def __init__(self, value):\n",
    "        self.data = value\n",
    "        self.next = None"
   ]
  },
  {
   "cell_type": "code",
   "execution_count": 4,
   "id": "4e5b2edb-0fd1-43df-9087-5efc22b8e8f1",
   "metadata": {},
   "outputs": [
    {
     "name": "stdout",
     "output_type": "stream",
     "text": [
      "<__main__.Node object at 0x105f288d0>\n",
      "1\n",
      "None\n"
     ]
    }
   ],
   "source": [
    "a = Node(1)\n",
    "print(a)\n",
    "print(a.data)\n",
    "print(a.next)"
   ]
  },
  {
   "cell_type": "code",
   "execution_count": 5,
   "id": "277fe230-a45e-496e-9c75-65f445ea799e",
   "metadata": {},
   "outputs": [],
   "source": [
    "a = Node(1)\n",
    "b = Node(2)\n",
    "c = Node(3)"
   ]
  },
  {
   "cell_type": "code",
   "execution_count": 8,
   "id": "eeead3cd-5fc1-44c3-8db3-b93e13520b87",
   "metadata": {},
   "outputs": [
    {
     "name": "stdout",
     "output_type": "stream",
     "text": [
      "<__main__.Node object at 0x105d861d0>\n"
     ]
    }
   ],
   "source": [
    "# Above objects are not LL. To make a LL we will have to store address of one to another. Here I have done manually. \n",
    "a.next = b\n",
    "b.next = c\n",
    "print(b.next)"
   ]
  },
  {
   "cell_type": "markdown",
   "id": "a6da6863-e8ae-4ada-a038-1182c4462229",
   "metadata": {},
   "source": [
    "* A linked list is like a chain made up of links (nodes). \n",
    "* An empty linked list means the chain has no links at all.\n",
    "* In Python code, this is done by initializing the list with self.head = None inside your linked list class.\n",
    "\n",
    "**Remember that to call an empty node you use self.head. It has both adress and node value**"
   ]
  },
  {
   "cell_type": "code",
   "execution_count": 9,
   "id": "cb58d9c5-0080-4058-ae2d-81ab92887948",
   "metadata": {},
   "outputs": [],
   "source": [
    "class Node:\n",
    "\n",
    "    def __init__(self, value):\n",
    "        self.data = value\n",
    "        self.next = None"
   ]
  },
  {
   "cell_type": "code",
   "execution_count": 10,
   "id": "722c0f1e-0b06-4195-823d-a8e43bd5b94d",
   "metadata": {},
   "outputs": [],
   "source": [
    "class LinkeList:\n",
    "\n",
    "    def __init__(self):\n",
    "        # Empty LL means there are zero nodes. In this LL head = None.\n",
    "        self.head = None\n",
    "        self.node = 0        # Number of nodes in the LL"
   ]
  },
  {
   "cell_type": "code",
   "execution_count": 11,
   "id": "ead70869-b50c-456c-b90f-ee4614968790",
   "metadata": {},
   "outputs": [
    {
     "name": "stdout",
     "output_type": "stream",
     "text": [
      "<__main__.LinkeList object at 0x105f9d4d0>\n",
      "None\n"
     ]
    }
   ],
   "source": [
    "L = LinkeList()\n",
    "print(L)\n",
    "print(L.head)"
   ]
  },
  {
   "cell_type": "code",
   "execution_count": 18,
   "id": "7c6ba660-1212-4aab-b58e-46b9387ceb22",
   "metadata": {},
   "outputs": [],
   "source": [
    "# Adding length method in the LL. \n",
    "\n",
    "class LinkedList:\n",
    "\n",
    "    def __init__(self):\n",
    "        self.head = None\n",
    "        self.n = 0\n",
    "\n",
    "    def __len__(self):\n",
    "        return self.n"
   ]
  },
  {
   "cell_type": "code",
   "execution_count": 19,
   "id": "668b7303-defc-4067-aabc-5b3fb9c178d1",
   "metadata": {},
   "outputs": [
    {
     "data": {
      "text/plain": [
       "0"
      ]
     },
     "execution_count": 19,
     "metadata": {},
     "output_type": "execute_result"
    }
   ],
   "source": [
    "L = LinkedList()\n",
    "len(L)"
   ]
  },
  {
   "cell_type": "markdown",
   "id": "2d1c9387-4223-4547-b2fd-7da5e1c8931e",
   "metadata": {},
   "source": [
    "**Four main operations in the LL:**\n",
    "\n",
    "1. Insert: head, tail(append), middle(insert)\n",
    "2. Traverse: print\n",
    "3. Delete: tail(pop), value(remove), index(index)\n",
    "4. Search: value, index"
   ]
  },
  {
   "cell_type": "markdown",
   "id": "a0472f7c-5763-48b8-8d2a-323f27d1879e",
   "metadata": {},
   "source": [
    "**Inserstion**"
   ]
  },
  {
   "cell_type": "code",
   "execution_count": 21,
   "id": "75b9ab8e-0ea7-4dc8-ac85-725e96a294da",
   "metadata": {},
   "outputs": [],
   "source": [
    "class Node:\n",
    "\n",
    "    def __init__(self, value):\n",
    "        self.data = value\n",
    "        self.next = None\n",
    "\n",
    "class LinkedList:\n",
    "\n",
    "    def __init__(self):\n",
    "        self.head = None\n",
    "        self.n = 0\n",
    "\n",
    "    def __len__(self):\n",
    "        return self.n\n",
    "\n",
    "    def insert_head(self, value):\n",
    "        \n",
    "        # New node\n",
    "        new_node = Node(value)\n",
    "                        \n",
    "        # Create connetion\n",
    "        new_node.next = self.head\n",
    "        \n",
    "        # Reassign head\n",
    "        self.head = new_node\n",
    "\n",
    "        # Increment n\n",
    "        self.n += 1"
   ]
  },
  {
   "cell_type": "code",
   "execution_count": 27,
   "id": "5543c996-8dc9-4359-a39a-dbf6dfe8fa34",
   "metadata": {},
   "outputs": [],
   "source": [
    "L = LinkedList()"
   ]
  },
  {
   "cell_type": "code",
   "execution_count": 28,
   "id": "21eb6416-8e51-42da-8bfe-65942f638d3b",
   "metadata": {},
   "outputs": [],
   "source": [
    "L.insert_head(1)\n",
    "L.insert_head(2)\n",
    "L.insert_head(3)\n",
    "L.insert_head(4)"
   ]
  },
  {
   "cell_type": "code",
   "execution_count": 29,
   "id": "77b253f8-f12e-48b1-81d8-950d06475678",
   "metadata": {},
   "outputs": [
    {
     "data": {
      "text/plain": [
       "4"
      ]
     },
     "execution_count": 29,
     "metadata": {},
     "output_type": "execute_result"
    }
   ],
   "source": [
    "len(L)"
   ]
  },
  {
   "cell_type": "code",
   "execution_count": 32,
   "id": "e7ea142e-90b8-4c71-8b28-7eed212d51ab",
   "metadata": {},
   "outputs": [],
   "source": [
    "# Adding Traverse before append. \n",
    "class Node:\n",
    "\n",
    "    def __init__(self, value):\n",
    "        self.data = value\n",
    "        self.next = None\n",
    "\n",
    "class LinkedList:\n",
    "\n",
    "    def __init__(self):\n",
    "        self.head = None\n",
    "        self.n = 0\n",
    "\n",
    "    def __len__(self):\n",
    "        return self.n\n",
    "\n",
    "    def insert_head(self, value):\n",
    "        \n",
    "        # New node\n",
    "        new_node = Node(value)\n",
    "                        \n",
    "        # Create connetion\n",
    "        new_node.next = self.head\n",
    "        \n",
    "        # Reassign head\n",
    "        self.head = new_node\n",
    "\n",
    "        # Increment n\n",
    "        self.n += 1\n",
    "\n",
    "    def traverse(self):\n",
    "\n",
    "        curr = self.head        # Assigning the whole node not only the address or value. \n",
    "        \n",
    "        while curr != None:\n",
    "            print(curr.data)\n",
    "            curr = curr.next"
   ]
  },
  {
   "cell_type": "code",
   "execution_count": 33,
   "id": "adb50240-0032-4c33-9ed9-0806efa27b9b",
   "metadata": {},
   "outputs": [
    {
     "name": "stdout",
     "output_type": "stream",
     "text": [
      "4\n",
      "3\n",
      "2\n",
      "1\n"
     ]
    }
   ],
   "source": [
    "L = LinkedList()\n",
    "L.insert_head(1)\n",
    "L.insert_head(2)\n",
    "L.insert_head(3)\n",
    "L.insert_head(4)\n",
    "L.traverse()"
   ]
  },
  {
   "cell_type": "code",
   "execution_count": 38,
   "id": "b36de0e9-d792-483a-8e52-16ae2ac2f44c",
   "metadata": {},
   "outputs": [],
   "source": [
    "# Adding Traverse before append. \n",
    "class Node:\n",
    "\n",
    "    def __init__(self, value):\n",
    "        self.data = value\n",
    "        self.next = None\n",
    "\n",
    "class LinkedList:\n",
    "\n",
    "    def __init__(self):\n",
    "        self.head = None\n",
    "        self.n = 0\n",
    "\n",
    "    def __len__(self):\n",
    "        return self.n\n",
    "\n",
    "    def insert_head(self, value):\n",
    "        \n",
    "        # New node\n",
    "        new_node = Node(value)\n",
    "                        \n",
    "        # Create connetion\n",
    "        new_node.next = self.head\n",
    "        \n",
    "        # Reassign head\n",
    "        self.head = new_node\n",
    "\n",
    "        # Increment n\n",
    "        self.n += 1\n",
    "\n",
    "    def __str__(self):          # Traverse\n",
    "\n",
    "        curr = self.head        # Assigning the whole node not only the address or value. \n",
    "        result = ''\n",
    "        \n",
    "        while curr != None:\n",
    "            result = result + str(curr.data) + '-->'\n",
    "            curr = curr.next\n",
    "\n",
    "        return result[:-3]"
   ]
  },
  {
   "cell_type": "code",
   "execution_count": 39,
   "id": "dfdc9d93-d2d7-42c4-9214-ff5363e3523f",
   "metadata": {},
   "outputs": [
    {
     "name": "stdout",
     "output_type": "stream",
     "text": [
      "4-->3-->2-->1\n"
     ]
    }
   ],
   "source": [
    "L = LinkedList()\n",
    "L.insert_head(1)\n",
    "L.insert_head(2)\n",
    "L.insert_head(3)\n",
    "L.insert_head(4)\n",
    "print(L)"
   ]
  },
  {
   "cell_type": "code",
   "execution_count": null,
   "id": "157ae096-9a00-43e1-92a5-ebdd3f768f1c",
   "metadata": {},
   "outputs": [],
   "source": [
    "# Adding insert from tail method (append). "
   ]
  }
 ],
 "metadata": {
  "kernelspec": {
   "display_name": "Python 3 (ipykernel)",
   "language": "python",
   "name": "python3"
  },
  "language_info": {
   "codemirror_mode": {
    "name": "ipython",
    "version": 3
   },
   "file_extension": ".py",
   "mimetype": "text/x-python",
   "name": "python",
   "nbconvert_exporter": "python",
   "pygments_lexer": "ipython3",
   "version": "3.11.8"
  }
 },
 "nbformat": 4,
 "nbformat_minor": 5
}
