{
 "cells": [
  {
   "cell_type": "markdown",
   "id": "1f7fe130-9970-4de1-bc20-21cb323be679",
   "metadata": {},
   "source": [
    "# Static array\n",
    "Stores elements contagiously in memory. If you know the location of the first element you can calculate the location of any elements in the array.\n",
    "\n",
    "Disadvantage: \n",
    "1. Fixed Size (memory waste).\n",
    "2. Homogeneous (lack of flexibility)\n",
    "\n",
    "# Referential array \n",
    "A referential array in Python is a data structure that stores references (memory addresses) to the actual objects, rather than storing the objects themselves directly within the array. This approach offers flexibility, allowing arrays to hold elements of different data types. \n",
    "\n",
    "1. Lists and tuples in Python are examples of referential arrays.\n",
    "2. In Python, lists are implemented as dynamic arrays, which means they store references to objects, not the objects themselves. These references are stored contiguously in memory. Therefore, while the list's references are contiguous, the actual objects they point to may be scattered throughout memory.\n",
    "\n",
    "Disadvantage:\n",
    "1. Take some more space than dynamic.\n",
    "2. Take more time than dynamic. Because you first go to the references, then go to that reference in memory to extract the value. "
   ]
  },
  {
   "cell_type": "markdown",
   "id": "520b9c42-55b2-4b75-832b-3ff4aca67f24",
   "metadata": {},
   "source": [
    "# Dynamic array\n",
    "A dynamic array, also known as a resizable array, is an array that can automatically adjust its size as needed during runtime. In Python, the built-in list type functions as a dynamic array. Unlike static arrays, which have a fixed size defined at compile time, dynamic arrays can grow or shrink to accommodate changes in the number of elements."
   ]
  },
  {
   "cell_type": "code",
   "execution_count": null,
   "id": "2bbbb163-f9bf-47fc-94f7-81e49bdc1fe6",
   "metadata": {},
   "outputs": [],
   "source": []
  }
 ],
 "metadata": {
  "kernelspec": {
   "display_name": "Python 3 (ipykernel)",
   "language": "python",
   "name": "python3"
  },
  "language_info": {
   "codemirror_mode": {
    "name": "ipython",
    "version": 3
   },
   "file_extension": ".py",
   "mimetype": "text/x-python",
   "name": "python",
   "nbconvert_exporter": "python",
   "pygments_lexer": "ipython3",
   "version": "3.11.8"
  }
 },
 "nbformat": 4,
 "nbformat_minor": 5
}
