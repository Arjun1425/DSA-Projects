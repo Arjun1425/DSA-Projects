{
 "cells": [
  {
   "cell_type": "markdown",
   "id": "1f7fe130-9970-4de1-bc20-21cb323be679",
   "metadata": {},
   "source": [
    "# Static array\n",
    "Stores elements contagiously in memory. If you know the location of the first element you can calculate the location of any elements in the array.\n",
    "\n",
    "Disadvantage: \n",
    "1. Fixed Size (memory waste).\n",
    "2. Homogeneous (lack of flexibility)\n",
    "\n",
    "# Referential array \n",
    "A referential array in Python is a data structure that stores references (memory addresses) to the actual objects, rather than storing the objects themselves directly within the array. This approach offers flexibility, allowing arrays to hold elements of different data types. \n",
    "\n",
    "1. Lists and tuples in Python are examples of referential arrays.\n",
    "2. In Python, lists are implemented as dynamic arrays, which means they store references to objects, not the objects themselves. These references are stored contiguously in memory. Therefore, while the list's references are contiguous, the actual objects they point to may be scattered throughout memory.\n",
    "\n",
    "Disadvantage:\n",
    "1. Take some more space than dynamic.\n",
    "2. Take more time than dynamic. Because you first go to the references, then go to that reference in memory to extract the value. "
   ]
  },
  {
   "cell_type": "markdown",
   "id": "520b9c42-55b2-4b75-832b-3ff4aca67f24",
   "metadata": {},
   "source": [
    "# Dynamic array\n",
    "A dynamic array, also known as a resizable array, is an array that can automatically adjust its size as needed during runtime. In Python, the built-in list type functions as a dynamic array. Unlike static arrays, which have a fixed size defined at compile time, dynamic arrays can grow or shrink to accommodate changes in the number of elements."
   ]
  },
  {
   "cell_type": "markdown",
   "id": "3cffda15-0369-4f48-906f-a0324d03ea76",
   "metadata": {},
   "source": [
    "Making my own list class (Dynamic array). "
   ]
  },
  {
   "cell_type": "code",
   "execution_count": 5,
   "id": "2d8872b2-f207-473c-bf71-6f6cad043153",
   "metadata": {},
   "outputs": [
    {
     "name": "stdout",
     "output_type": "stream",
     "text": [
      "10 56\n",
      "20 88\n",
      "30 88\n",
      "40 88\n",
      "50 88\n",
      "60 120\n",
      "70 120\n",
      "80 120\n",
      "90 120\n"
     ]
    }
   ],
   "source": [
    "import sys\n",
    "L = []\n",
    "\n",
    "for i in range(10,100,10):\n",
    "    print(i, sys.getsizeof(L))\n",
    "    L.append(i)"
   ]
  },
  {
   "cell_type": "markdown",
   "id": "9f7ffb7d-18f2-4243-b6ef-2b201c18cdf0",
   "metadata": {},
   "source": [
    "ctype: The ctypes module in Python provides a way to interact with C code, specifically by allowing you to call functions from shared libraries (DLLs or SO files) and manipulate C data types from within Python."
   ]
  },
  {
   "cell_type": "code",
   "execution_count": 15,
   "id": "b838e602-20ba-448f-8f90-a484d7d85afe",
   "metadata": {},
   "outputs": [],
   "source": [
    "import ctypes"
   ]
  },
  {
   "cell_type": "code",
   "execution_count": 16,
   "id": "5ab630ec-84f7-44de-ba63-82fec7859527",
   "metadata": {},
   "outputs": [],
   "source": [
    "# 1. Make a List. \n",
    "\n",
    "class MakeList():\n",
    "\n",
    "    def __init__(self):\n",
    "        self.size = 1\n",
    "        self.n = 0\n",
    "        # Create a C type array (referential and static) with size = self.size\n",
    "        self.A = self.__make_array(self.size)\n",
    "\n",
    "    def __make_array(self,capacity):\n",
    "        # This code creates ctype array (referential and static) with size = capacity.\n",
    "        return (capacity*ctypes.py_object)()"
   ]
  },
  {
   "cell_type": "code",
   "execution_count": 17,
   "id": "7844c277-fd07-407d-b9c9-aff68f37818a",
   "metadata": {},
   "outputs": [
    {
     "name": "stdout",
     "output_type": "stream",
     "text": [
      "<__main__.MakeList object at 0x1064b7cd0>\n"
     ]
    }
   ],
   "source": [
    "L = MakeList()\n",
    "print(L)         # Memory location of the object (L)"
   ]
  },
  {
   "cell_type": "code",
   "execution_count": 24,
   "id": "d94bbb3a-323b-4aee-9098-7f07f63fdc06",
   "metadata": {},
   "outputs": [],
   "source": [
    "# 2. Add a method to calculate the length. \n",
    "\n",
    "class MeraList():\n",
    "\n",
    "    def __init__(self):\n",
    "        self.size = 1\n",
    "        self.n = 0\n",
    "        self.A = self.__make_array(self.size)\n",
    "\n",
    "    def __make_array(self, capacity):\n",
    "        return (capacity*ctypes.py_object)()\n",
    "\n",
    "    def __len__(self):\n",
    "        return self.n"
   ]
  },
  {
   "cell_type": "code",
   "execution_count": 25,
   "id": "19bb3a0c-4634-4d36-9185-5d081ec21ee1",
   "metadata": {},
   "outputs": [
    {
     "data": {
      "text/plain": [
       "0"
      ]
     },
     "execution_count": 25,
     "metadata": {},
     "output_type": "execute_result"
    }
   ],
   "source": [
    "L = MeraList()\n",
    "len(L)"
   ]
  },
  {
   "cell_type": "code",
   "execution_count": 41,
   "id": "0e4769cf-ea38-4027-9b87-32c302b49cf3",
   "metadata": {},
   "outputs": [],
   "source": [
    "# 3. Adding append feature in the list. \n",
    "class MeraList():\n",
    "\n",
    "    def __init__(self):\n",
    "        self.size = 1\n",
    "        self.n = 0\n",
    "        self.A = self.__make_array(self.size)\n",
    "\n",
    "    def __make_array(self, capacity):\n",
    "        return (capacity*ctypes.py_object)()\n",
    "\n",
    "    def __len__(self):\n",
    "        return self.n\n",
    "\n",
    "    def append(self, item):\n",
    "        if self.n == self.size:\n",
    "            # resize the array (make a new array of double the size and copy the whole content in it)\n",
    "            self.__resize(self.size*2)\n",
    "        # Appending the element in the array. \n",
    "        self.A[self.n] = item\n",
    "        self.n = self.n + 1\n",
    "\n",
    "    def __resize(self, new_capacity):\n",
    "        B = self.__make_array(new_capacity)\n",
    "        self.size = new_capacity\n",
    "        # Copying elements of A into new array B. \n",
    "        for i in range(self.n):\n",
    "            B[i] = self.A[i]\n",
    "        # Converting A into B. Coz every other method is defined using A. \n",
    "        self.A = B"
   ]
  },
  {
   "cell_type": "code",
   "execution_count": 42,
   "id": "df4985da-b644-4edd-9ca4-70516ee37056",
   "metadata": {},
   "outputs": [
    {
     "data": {
      "text/plain": [
       "5"
      ]
     },
     "execution_count": 42,
     "metadata": {},
     "output_type": "execute_result"
    }
   ],
   "source": [
    "L = MeraList()\n",
    "L.append(\"Hello\")\n",
    "L.append(\"World\")\n",
    "L.append(3)\n",
    "L.append(5)\n",
    "L.append(True)\n",
    "len(L)"
   ]
  },
  {
   "cell_type": "code",
   "execution_count": 52,
   "id": "eb3e3df2-5026-4cbf-961e-73f1422ffa43",
   "metadata": {},
   "outputs": [],
   "source": [
    "# 3. Adding print feature to the list. \n",
    "\n",
    "class MeraList():\n",
    "\n",
    "    def __init__(self):\n",
    "        self.size = 1\n",
    "        self.n = 0\n",
    "        self.A = self.__make_array(self.size)\n",
    "\n",
    "    def __make_array(self, capacity):\n",
    "        return (capacity*ctypes.py_object)()\n",
    "\n",
    "    def __len__(self):\n",
    "        return self.n\n",
    "\n",
    "    def append(self, item):\n",
    "        if self.n == self.size:\n",
    "            # resize the array (make a new array of double the size and copy the whole content in it)\n",
    "            self.__resize(self.size*2)\n",
    "        # Appending the element in the array. \n",
    "        self.A[self.n] = item\n",
    "        self.n = self.n + 1\n",
    "\n",
    "    def __resize(self, new_capacity):\n",
    "        B = self.__make_array(new_capacity)\n",
    "        self.size = new_capacity\n",
    "        # Copying elements of A into new array B. \n",
    "        for i in range(self.n):\n",
    "            B[i] = self.A[i]\n",
    "        # Converting A into B. Coz every other method is defined using A. \n",
    "        self.A = B\n",
    "\n",
    "    def __str__(self):\n",
    "        result = ''\n",
    "        for i in range(self.n):\n",
    "            result = result + str(self.A[i]) + \",\"\n",
    "        return '[' + result[:-1] + ']'"
   ]
  },
  {
   "cell_type": "code",
   "execution_count": 57,
   "id": "5c21245f-9a9a-4605-8d32-4fe779e1eaf1",
   "metadata": {},
   "outputs": [
    {
     "name": "stdout",
     "output_type": "stream",
     "text": [
      "[3,Hello]\n",
      "[3,Hello,45]\n",
      "<class '__main__.MeraList'>\n"
     ]
    }
   ],
   "source": [
    "L = MeraList()\n",
    "L.append(3)\n",
    "L.append('Hello')\n",
    "print(L)\n",
    "L.append(45)\n",
    "print(L)\n",
    "print(type(L))"
   ]
  },
  {
   "cell_type": "code",
   "execution_count": 58,
   "id": "743f1e6a-5b4b-495d-b37a-439083fec59e",
   "metadata": {},
   "outputs": [],
   "source": [
    "# 4. Adding indexing feature to the list. \n",
    "\n",
    "class MeraList():\n",
    "\n",
    "    def __init__(self):\n",
    "        self.size = 1\n",
    "        self.n = 0\n",
    "        self.A = self.__make_array(self.size)\n",
    "\n",
    "    def __make_array(self, capacity):\n",
    "        return (capacity*ctypes.py_object)()\n",
    "\n",
    "    def __len__(self):\n",
    "        return self.n\n",
    "\n",
    "    def append(self, item):\n",
    "        if self.n == self.size:\n",
    "            # resize the array (make a new array of double the size and copy the whole content in it)\n",
    "            self.__resize(self.size*2)\n",
    "        # Appending the element in the array. \n",
    "        self.A[self.n] = item\n",
    "        self.n = self.n + 1\n",
    "\n",
    "    def __resize(self, new_capacity):\n",
    "        B = self.__make_array(new_capacity)\n",
    "        self.size = new_capacity\n",
    "        # Copying elements of A into new array B. \n",
    "        for i in range(self.n):\n",
    "            B[i] = self.A[i]\n",
    "        # Converting A into B. Coz every other method is defined using A. \n",
    "        self.A = B\n",
    "\n",
    "    def __str__(self):\n",
    "        result = ''\n",
    "        for i in range(self.n):\n",
    "            result = result + str(self.A[i]) + \",\"\n",
    "        return '[' + result[:-1] + ']'\n",
    "\n",
    "    def __getitem__(self, index):\n",
    "        if 0 <= index <= self.n:\n",
    "            return self.A[index]\n",
    "        else:\n",
    "            return \"Index out of range\""
   ]
  },
  {
   "cell_type": "code",
   "execution_count": 62,
   "id": "fc9ad434-0559-4ceb-989d-de8e7b30e5d7",
   "metadata": {},
   "outputs": [
    {
     "name": "stdout",
     "output_type": "stream",
     "text": [
      "[3,Hello,8,World]\n",
      "Hello\n"
     ]
    }
   ],
   "source": [
    "L = MeraList()\n",
    "L.append(3)\n",
    "L.append('Hello')\n",
    "L.append(8)\n",
    "L.append('World')\n",
    "print(L)\n",
    "L.append(45)\n",
    "print(L[1])"
   ]
  },
  {
   "cell_type": "code",
   "execution_count": 80,
   "id": "ea5e8250-285b-4cec-a203-ef2bbaf25a8e",
   "metadata": {},
   "outputs": [],
   "source": [
    "# 5. Adding pop feature in a list. \n",
    "\n",
    "class MeraList():\n",
    "\n",
    "    def __init__(self):\n",
    "        self.size = 1\n",
    "        self.n = 0\n",
    "        self.A = self.__make_array(self.size)\n",
    "\n",
    "    def __make_array(self, capacity):\n",
    "        return (capacity*ctypes.py_object)()\n",
    "\n",
    "    def __len__(self):\n",
    "        return self.n\n",
    "\n",
    "    def append(self, item):\n",
    "        if self.n == self.size:\n",
    "            # resize the array (make a new array of double the size and copy the whole content in it)\n",
    "            self.__resize(self.size*2)\n",
    "        # Appending the element in the array. \n",
    "        self.A[self.n] = item\n",
    "        self.n = self.n + 1\n",
    "\n",
    "    def __resize(self, new_capacity):\n",
    "        B = self.__make_array(new_capacity)\n",
    "        self.size = new_capacity\n",
    "        # Copying elements of A into new array B. \n",
    "        for i in range(self.n):\n",
    "            B[i] = self.A[i]\n",
    "        # Converting A into B. Coz every other method is defined using A. \n",
    "        self.A = B\n",
    "\n",
    "    def __str__(self):\n",
    "        result = ''\n",
    "        for i in range(self.n):\n",
    "            result = result + str(self.A[i]) + \",\"\n",
    "        return '[' + result[:-1] + ']'\n",
    "\n",
    "    def __getitem__(self, index):\n",
    "        if 0 <= index <= self.n:\n",
    "            return self.A[index]\n",
    "        else:\n",
    "            return \"Index out of range\"\n",
    "\n",
    "    def pop(self):\n",
    "        if self.n != 0:\n",
    "            print(self.A[self.n - 1])\n",
    "            self.n = self.n - 1\n",
    "        else:\n",
    "            return \"No element present in the list\"\n",
    "        "
   ]
  },
  {
   "cell_type": "code",
   "execution_count": 81,
   "id": "6c7038c2-5eea-4a6a-9f55-dc1374e73c7f",
   "metadata": {},
   "outputs": [
    {
     "name": "stdout",
     "output_type": "stream",
     "text": [
      "[3,Hello,8,World,45]\n",
      "Hello\n",
      "45\n",
      "[3,Hello,8,World]\n"
     ]
    }
   ],
   "source": [
    "L = MeraList()\n",
    "L.append(3)\n",
    "L.append('Hello')\n",
    "L.append(8)\n",
    "L.append('World')\n",
    "L.append(45)\n",
    "print(L)\n",
    "print(L[1])\n",
    "L.pop()\n",
    "print(L)"
   ]
  },
  {
   "cell_type": "code",
   "execution_count": null,
   "id": "70cc3ffe-96b4-4859-a7c9-d1a95fd6d3a5",
   "metadata": {},
   "outputs": [],
   "source": [
    "# 6. Adding clear function to the list. \n",
    "\n",
    "class MeraList():\n",
    "\n",
    "    def __init__(self):\n",
    "        self.size = 1\n",
    "        self.n = 0\n",
    "        self.A = self.__make_array(self.size)\n",
    "\n",
    "    def __make_array(self, capacity):\n",
    "        return (capacity*ctypes.py_object)()\n",
    "\n",
    "    def __len__(self):\n",
    "        return self.n\n",
    "\n",
    "    def append(self, item):\n",
    "        if self.n == self.size:\n",
    "            # resize the array (make a new array of double the size and copy the whole content in it)\n",
    "            self.__resize(self.size*2)\n",
    "        # Appending the element in the array. \n",
    "        self.A[self.n] = item\n",
    "        self.n = self.n + 1\n",
    "\n",
    "    def __resize(self, new_capacity):\n",
    "        B = self.__make_array(new_capacity)\n",
    "        self.size = new_capacity\n",
    "        # Copying elements of A into new array B. \n",
    "        for i in range(self.n):\n",
    "            B[i] = self.A[i]\n",
    "        # Converting A into B. Coz every other method is defined using A. \n",
    "        self.A = B\n",
    "\n",
    "    def __str__(self):\n",
    "        result = ''\n",
    "        for i in range(self.n):\n",
    "            result = result + str(self.A[i]) + \",\"\n",
    "        return '[' + result[:-1] + ']'\n",
    "\n",
    "    def __getitem__(self, index):\n",
    "        if 0 <= index <= self.n:\n",
    "            return self.A[index]\n",
    "        else:\n",
    "            return \"Index out of range\"\n",
    "\n",
    "    def pop(self):\n",
    "        if self.n != 0:\n",
    "            print(self.A[self.n - 1])\n",
    "            self.n = self.n - 1\n",
    "        else:\n",
    "            return \"No element present in the list\"\n",
    "\n",
    "    "
   ]
  }
 ],
 "metadata": {
  "kernelspec": {
   "display_name": "Python 3 (ipykernel)",
   "language": "python",
   "name": "python3"
  },
  "language_info": {
   "codemirror_mode": {
    "name": "ipython",
    "version": 3
   },
   "file_extension": ".py",
   "mimetype": "text/x-python",
   "name": "python",
   "nbconvert_exporter": "python",
   "pygments_lexer": "ipython3",
   "version": "3.11.8"
  }
 },
 "nbformat": 4,
 "nbformat_minor": 5
}
