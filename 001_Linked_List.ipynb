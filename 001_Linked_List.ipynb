{
 "cells": [
  {
   "cell_type": "markdown",
   "id": "39183a6f-7d69-4fe3-9816-4dcfafb66ffb",
   "metadata": {},
   "source": [
    "# Creating a Node. Which has value and reference to next node.  "
   ]
  },
  {
   "cell_type": "code",
   "execution_count": 1,
   "id": "5c9fabb9-2fd0-4746-8c7e-b67e933f6362",
   "metadata": {},
   "outputs": [
    {
     "name": "stdout",
     "output_type": "stream",
     "text": [
      "<__main__.Node object at 0x103c6df90>\n"
     ]
    }
   ],
   "source": [
    "class Node: \n",
    "    def __init__(self, value):\n",
    "        self.value = value\n",
    "        self.next = None\n",
    "\n",
    "new_Node = Node(10)\n",
    "print(new_Node)"
   ]
  },
  {
   "cell_type": "markdown",
   "id": "f66f2a4b-90e5-49fb-8f53-08125f56bb04",
   "metadata": {},
   "source": [
    "# Creating a linked list class having only one element. It means head and tail connected to it. "
   ]
  },
  {
   "cell_type": "code",
   "execution_count": 5,
   "id": "933739b6-116a-4aa7-966e-2006b59c686d",
   "metadata": {},
   "outputs": [
    {
     "name": "stdout",
     "output_type": "stream",
     "text": [
      "<__main__.LinkedList object at 0x103c96e90>\n",
      "5\n",
      "5\n",
      "1\n"
     ]
    }
   ],
   "source": [
    "class LinkedList:\n",
    "    def __init__(self, value_1):\n",
    "        new_node = Node(value_1)\n",
    "        self.head = new_node\n",
    "        self.tail = new_node\n",
    "        self.length = 1  # Making a new attribute so we don't have to calculate length of LinkedList all the time.\n",
    "        \n",
    "new_linked_list = LinkedList(5)\n",
    "print(new_linked_list)\n",
    "print(new_linked_list.head.value)\n",
    "print(new_linked_list.tail.value)\n",
    "print(new_linked_list.length)"
   ]
  },
  {
   "cell_type": "markdown",
   "id": "a19fd40c-35bc-494c-a6d0-88cc38f2686e",
   "metadata": {},
   "source": [
    "# Insertion of the node in the LinkedList. "
   ]
  },
  {
   "cell_type": "code",
   "execution_count": null,
   "id": "bc004f03-a6af-4418-a1a7-283463cfd6c6",
   "metadata": {},
   "outputs": [],
   "source": []
  }
 ],
 "metadata": {
  "kernelspec": {
   "display_name": "Python 3 (ipykernel)",
   "language": "python",
   "name": "python3"
  },
  "language_info": {
   "codemirror_mode": {
    "name": "ipython",
    "version": 3
   },
   "file_extension": ".py",
   "mimetype": "text/x-python",
   "name": "python",
   "nbconvert_exporter": "python",
   "pygments_lexer": "ipython3",
   "version": "3.11.8"
  }
 },
 "nbformat": 4,
 "nbformat_minor": 5
}
