{
  "nbformat": 4,
  "nbformat_minor": 0,
  "metadata": {
    "colab": {
      "provenance": []
    },
    "kernelspec": {
      "name": "python3",
      "display_name": "Python 3"
    },
    "language_info": {
      "name": "python"
    }
  },
  "cells": [
    {
      "cell_type": "code",
      "execution_count": null,
      "metadata": {
        "id": "evj19CkUAarI"
      },
      "outputs": [],
      "source": [
        "from pydantic import BaseModel, EmailStr\n",
        "from typing import List, Dict, Optional"
      ]
    },
    {
      "cell_type": "markdown",
      "source": [
        "You will have to write lot's of check statements in the code for the variables to store data correctly and how you want. Pydantic solves that problem."
      ],
      "metadata": {
        "id": "eB7-F8ttDUHy"
      }
    },
    {
      "cell_type": "code",
      "source": [
        "def insert_patient_details(name: str, age: int):\n",
        "\n",
        "  if type(name) == str and type(age) == int:\n",
        "    if age <0 :\n",
        "      raise ValueError(\"Age can't be negative\")\n",
        "    else:\n",
        "      print(name)\n",
        "      print(age)\n",
        "      print('inserted')\n",
        "  else:\n",
        "    raise TypeError(\"Incorrect data type\")\n",
        "\n",
        "def update_patient_details(name: str, age: int):\n",
        "\n",
        "  if type(name) == str and type(age) == int:\n",
        "    if age <0 :\n",
        "      raise ValueError(\"Age can't be negative\")\n",
        "    else:\n",
        "      print(name)\n",
        "      print(age)\n",
        "      print(\"updated\")\n",
        "  else:\n",
        "    raise TypeError(\"Incorrect data type\")"
      ],
      "metadata": {
        "id": "KiDX0FG0ApXl"
      },
      "execution_count": null,
      "outputs": []
    },
    {
      "cell_type": "code",
      "source": [
        "patient_info = {'name': \"Arjun\", \"age\": 28}"
      ],
      "metadata": {
        "id": "8sZtaHp9B2D0"
      },
      "execution_count": null,
      "outputs": []
    },
    {
      "cell_type": "code",
      "source": [
        "Patient_1_insert = insert_patient_details(**patient_info)\n",
        "Patient_1_update = update_patient_details(**patient_info)"
      ],
      "metadata": {
        "colab": {
          "base_uri": "https://localhost:8080/"
        },
        "id": "9dIv9o3hBqzf",
        "outputId": "d9fcc4e0-3664-4acc-9423-2e633991c9e0"
      },
      "execution_count": null,
      "outputs": [
        {
          "output_type": "stream",
          "name": "stdout",
          "text": [
            "Arjun\n",
            "28\n",
            "inserted\n",
            "Arjun\n",
            "28\n",
            "updated\n"
          ]
        }
      ]
    },
    {
      "cell_type": "markdown",
      "source": [
        "Using Pydantic."
      ],
      "metadata": {
        "id": "GAVyOD8ZEcFm"
      }
    },
    {
      "cell_type": "markdown",
      "source": [
        "1. Define a Pydantic model (class) that represents the ideal schema of the data.\n",
        "* This includes the expected fields, their types, and any validation constraints (e.g., gt =0 for positive numbers)\n",
        "\n",
        "* These all are fields (name, age, weight, ......)."
      ],
      "metadata": {
        "id": "g_3aWNseE8Dk"
      }
    },
    {
      "cell_type": "code",
      "source": [
        "class Patient(BaseModel):\n",
        "\n",
        "  name: str\n",
        "  age: int\n",
        "  weight: float\n",
        "  married: bool\n",
        "  allergies: List[str]\n",
        "  contact_details: Dict[str, str]"
      ],
      "metadata": {
        "id": "AhflAAhrEWld"
      },
      "execution_count": null,
      "outputs": []
    },
    {
      "cell_type": "markdown",
      "source": [
        "2. Instantiate the model with raw input data (usually a dictionary or JSON-like structure).\n",
        "* Pydantic will automatically validate the data and coerce it into the correct Python types (if possible).\n",
        "* If the data doesn't meet the model's requirements, Pydantic raises a Validation Error."
      ],
      "metadata": {
        "id": "CyHB50sMH4N8"
      }
    },
    {
      "cell_type": "code",
      "source": [
        "patient_info = {\"name\": \"Arjun\", \"age\": 30, 'weight': 72.0, \"married\": False, \"allergies\": ['nuts', 'milk'], \"contact_details\": {'email': 'ar@gmail.com', 'phone': '7893647'}}\n",
        "Patient_1 = Patient(**patient_info)"
      ],
      "metadata": {
        "id": "vLXy0wfxH3XB"
      },
      "execution_count": null,
      "outputs": []
    },
    {
      "cell_type": "markdown",
      "source": [
        "3. Pass the validated model object to functions or use it throughout your codebase.\n",
        "* This ensures that every part of your program works with clean, type-safe, and logically valid data."
      ],
      "metadata": {
        "id": "I6N-24CYIeAQ"
      }
    },
    {
      "cell_type": "code",
      "source": [
        "def insert_patient_details(patient: Patient):\n",
        "  print(patient.name)\n",
        "  print(patient.age)\n",
        "  print(\"Inserted\")\n",
        "\n",
        "def update_patient_details(patient: Patient):\n",
        "  print(patient.name)\n",
        "  print(patient.age)\n",
        "  print(\"Updated\")"
      ],
      "metadata": {
        "id": "6q5mQ9MBEu-5"
      },
      "execution_count": null,
      "outputs": []
    },
    {
      "cell_type": "code",
      "source": [
        "insert_patient_details(Patient_1)"
      ],
      "metadata": {
        "colab": {
          "base_uri": "https://localhost:8080/"
        },
        "id": "w4mkK8unNtzL",
        "outputId": "6c9b597b-a093-487f-dab4-6c798383c220"
      },
      "execution_count": null,
      "outputs": [
        {
          "output_type": "stream",
          "name": "stdout",
          "text": [
            "Arjun\n",
            "30\n",
            "Inserted\n"
          ]
        }
      ]
    },
    {
      "cell_type": "markdown",
      "source": [
        "Solving data validation problem.\n",
        "* Restructing your data type."
      ],
      "metadata": {
        "id": "aaLoIzegQDr2"
      }
    },
    {
      "cell_type": "markdown",
      "source": [
        "1. Adding default values to the variables.\n",
        "* Use Optional from typing module and also giving it default value of None."
      ],
      "metadata": {
        "id": "TDnHpAoyQgn2"
      }
    },
    {
      "cell_type": "code",
      "source": [
        "class Patient(BaseModel):\n",
        "\n",
        "  name: str\n",
        "  age: int\n",
        "  weight: float\n",
        "  married: Optional[bool] = False\n",
        "  allergies: Optional[List[str]]= None\n",
        "  contact_details: Dict[str, str]"
      ],
      "metadata": {
        "id": "HDGxTlSJQctu"
      },
      "execution_count": null,
      "outputs": []
    },
    {
      "cell_type": "code",
      "source": [
        "!pip install email_validator"
      ],
      "metadata": {
        "colab": {
          "base_uri": "https://localhost:8080/"
        },
        "id": "ZtKUNS_WVCh-",
        "outputId": "708fc3e3-76ec-43f1-f446-fd31a9a5980f"
      },
      "execution_count": null,
      "outputs": [
        {
          "output_type": "stream",
          "name": "stdout",
          "text": [
            "Collecting email_validator\n",
            "  Downloading email_validator-2.2.0-py3-none-any.whl.metadata (25 kB)\n",
            "Collecting dnspython>=2.0.0 (from email_validator)\n",
            "  Downloading dnspython-2.7.0-py3-none-any.whl.metadata (5.8 kB)\n",
            "Requirement already satisfied: idna>=2.0.0 in /usr/local/lib/python3.11/dist-packages (from email_validator) (3.10)\n",
            "Downloading email_validator-2.2.0-py3-none-any.whl (33 kB)\n",
            "Downloading dnspython-2.7.0-py3-none-any.whl (313 kB)\n",
            "\u001b[2K   \u001b[90m━━━━━━━━━━━━━━━━━━━━━━━━━━━━━━━━━━━━━━━━\u001b[0m \u001b[32m313.6/313.6 kB\u001b[0m \u001b[31m11.6 MB/s\u001b[0m eta \u001b[36m0:00:00\u001b[0m\n",
            "\u001b[?25hInstalling collected packages: dnspython, email_validator\n",
            "Successfully installed dnspython-2.7.0 email_validator-2.2.0\n"
          ]
        }
      ]
    },
    {
      "cell_type": "markdown",
      "source": [
        "Data validation.\n",
        "1. Custom data type from Pydantic: Email validation using EmailStr. AnyUrl to insert the correct Urls."
      ],
      "metadata": {
        "id": "m1bMfUdASicO"
      }
    },
    {
      "cell_type": "code",
      "source": [
        "from pydantic import BaseModel, EmailStr, AnyUrl\n",
        "from typing import List, Dict, Optional\n",
        "\n",
        "class Patient(BaseModel):\n",
        "\n",
        "  name: str\n",
        "  email: Optional[EmailStr] = None\n",
        "  website: Optional[AnyUrl] = None\n",
        "  age: int\n",
        "  weight: float\n",
        "  married: Optional[bool] = False\n",
        "  allergies: Optional[List[str]]= None\n",
        "  contact_details: Dict[str, str]\n",
        "\n",
        "def insert_patient_details(patient: Patient):\n",
        "  print(patient.name)\n",
        "  print(patient.age)\n",
        "  print(\"Inserted\")\n",
        "\n",
        "def update_patient_details(patient: Patient):\n",
        "  print(patient.name)\n",
        "  print(patient.age)\n",
        "  print(\"Updated\")\n",
        "\n",
        "patient_info = {\"name\": \"Arjun\", 'email': 'ar@gmail.com', \"age\": 30,\n",
        "                'weight': 72.0, \"married\": False, \"allergies\": ['nuts', 'milk'],\n",
        "                \"contact_details\": {'zip': '11800', 'phone': '7893647'}}\n",
        "\n",
        "Patient_1 = Patient(**patient_info)\n",
        "\n",
        "insert_patient_details(Patient_1)"
      ],
      "metadata": {
        "colab": {
          "base_uri": "https://localhost:8080/"
        },
        "id": "BXuijtoTSNXS",
        "outputId": "9b6b83ba-5514-468d-c68e-05ddec08c8b0"
      },
      "execution_count": null,
      "outputs": [
        {
          "output_type": "stream",
          "name": "stdout",
          "text": [
            "Arjun\n",
            "30\n",
            "Inserted\n"
          ]
        }
      ]
    },
    {
      "cell_type": "markdown",
      "source": [
        "2. Custom data validation using \"Field\" function. So no one can insert age as negative.\n",
        "* You can also attach meta data. So others can understand it. Using Annotated from typing module.\n",
        "* Setting default values.\n",
        "* Using strict parameter which stops type conversions. For eg: If you set the value of weigth as str \"72\". The Pydantic module will still work. It will not show any errors evenif you tell it that it should be float. But some time it is not good. So, to stop that you can use the \"strict\" parameter in the Field."
      ],
      "metadata": {
        "id": "IVNWFMgYWQBc"
      }
    },
    {
      "cell_type": "code",
      "source": [
        "from pydantic import BaseModel, EmailStr, AnyUrl, Field\n",
        "from typing import List, Dict, Optional, Annotated\n",
        "\n",
        "class Patient(BaseModel):\n",
        "\n",
        "  #name: str = Field(max_length=50)  # max name length 50\n",
        "  name: Annotated[str, Field(max_length = 50, title = \"Name of the patient\", description=\"Give the name of the patient in less than 50 chars\",\n",
        "                             examples = [\"Arjun\", \"Dignon\"])]\n",
        "  email: Optional[EmailStr] = None\n",
        "  website: Optional[AnyUrl] = None\n",
        "  age: int = Field(gt=0, lt=120)    # Greater than zero and less then 120.\n",
        "  weight: Annotated[float, Field(ge=1, strict=True)]       # Greater than and equal to 1. And also it should be float.\n",
        "  married: Optional[bool] = False\n",
        "  allergies: Optional[List[str]] = Field(default = None, max_length=8)  # No one can add more than 8 allergies and default is None.\n",
        "  contact_details: Dict[str, str]\n",
        "\n",
        "def insert_patient_details(patient: Patient):\n",
        "  print(patient.name)\n",
        "  print(patient.age)\n",
        "  print(\"Inserted\")\n",
        "\n",
        "def update_patient_details(patient: Patient):\n",
        "  print(patient.name)\n",
        "  print(patient.age)\n",
        "  print(\"Updated\")\n",
        "\n",
        "patient_info = {\"name\": \"Arjun\", 'email': 'ar@gmail.com', \"age\": 30,\n",
        "                'weight': 72.0, \"married\": False, \"allergies\": ['nuts', 'milk'],\n",
        "                \"contact_details\": {'zip': '11800', 'phone': '7893647'}}\n",
        "\n",
        "Patient_1 = Patient(**patient_info)\n",
        "\n",
        "insert_patient_details(Patient_1)"
      ],
      "metadata": {
        "colab": {
          "base_uri": "https://localhost:8080/"
        },
        "outputId": "2973fedb-0243-40a8-a03a-6b635a99f114",
        "id": "9G7f0Wj3WjOg"
      },
      "execution_count": null,
      "outputs": [
        {
          "output_type": "stream",
          "name": "stdout",
          "text": [
            "Arjun\n",
            "30\n",
            "Inserted\n"
          ]
        }
      ]
    },
    {
      "cell_type": "markdown",
      "source": [
        "Field validator.\n",
        "1. To check if the email is from one company or some other company. Like if you give some discounts to some company employess and to check if that employee works at that company or not. Like the employee who are working at PwC should have @pwc in their emails.\n",
        "2. Transformation. Convert the name in upper case.\n",
        "3. Field validator can be operate in two modes: before and after. Here by default it is after."
      ],
      "metadata": {
        "id": "ni_VPl2pasir"
      }
    },
    {
      "cell_type": "code",
      "source": [
        "from pydantic import BaseModel, EmailStr, AnyUrl, field_validator\n",
        "from typing import List, Dict, Optional\n",
        "\n",
        "class Patient(BaseModel):\n",
        "\n",
        "  name: str\n",
        "  email: Optional[EmailStr] = None\n",
        "  website: Optional[AnyUrl] = None\n",
        "  age: int\n",
        "  weight: float\n",
        "  married: Optional[bool] = False\n",
        "  allergies: Optional[List[str]]= None\n",
        "  contact_details: Dict[str, str]\n",
        "\n",
        "  @field_validator('email')\n",
        "  @classmethod\n",
        "  def email_validator(cls, value):\n",
        "\n",
        "    valid_domais = ['pwc.com', 'kymeratx.com']\n",
        "    # extracting domain name from the value.\n",
        "    domain_name = value.split('@')[1]    # ['arjun','pwc.com']\n",
        "    if domain_name not in valid_domais:\n",
        "      raise ValueError('Not a valid domain')\n",
        "\n",
        "  @field_validator('name')\n",
        "  @classmethod\n",
        "  def transform_name(cls, value):\n",
        "    return value.upper()\n",
        "\n",
        "  # You can also do that using Field function. Here we want to set the limit of age usng Field validator.\n",
        "  @field_validator('age', mode = 'after')        # Here by setting after means that the age will first pass through class and it will convert from str to int. But if you use \"before\" it will use the age actual value which is in str. Which will give error.\n",
        "  @classmethod\n",
        "  def validate_age(cls, value):\n",
        "    if 0 < value < 100:\n",
        "      return value\n",
        "    else:\n",
        "      raise ValueError(\"Enter the correct age range\")\n",
        "\n",
        "\n",
        "def insert_patient_details(patient: Patient):\n",
        "  print(patient.name)\n",
        "  print(patient.age)\n",
        "  print(\"Inserted\")\n",
        "\n",
        "def update_patient_details(patient: Patient):\n",
        "  print(patient.name)\n",
        "  print(patient.age)\n",
        "  print(\"Updated\")\n",
        "\n",
        "patient_info = {\"name\": \"Arjun\", 'email': 'ar@pwc.com', \"age\": '30',\n",
        "                'weight': 72.0, \"married\": False, \"allergies\": ['nuts', 'milk'],\n",
        "                \"contact_details\": {'zip': '11800', 'phone': '7893647'}}\n",
        "\n",
        "Patient_1 = Patient(**patient_info)\n",
        "\n",
        "insert_patient_details(Patient_1)"
      ],
      "metadata": {
        "colab": {
          "base_uri": "https://localhost:8080/"
        },
        "id": "TwzbpEyVXyXi",
        "outputId": "c266562a-8e97-423f-f200-64d619674e05"
      },
      "execution_count": null,
      "outputs": [
        {
          "output_type": "stream",
          "name": "stdout",
          "text": [
            "ARJUN\n",
            "30\n",
            "Inserted\n"
          ]
        }
      ]
    },
    {
      "cell_type": "markdown",
      "source": [
        "How to do data validation depending on more than one field?\n",
        "* Eg: If the age of patient is more than 60 then in contacts you also need emergency contact number. Here data validation depend on two field: age and contact.\n",
        "\n",
        "**Here comes model validator**\n",
        "* Now we are working with two fields (age and contact_details) so we will have to use model validator. We can't use Field validator."
      ],
      "metadata": {
        "id": "8DUfTIXRdGBg"
      }
    },
    {
      "cell_type": "code",
      "source": [
        "from pydantic import BaseModel, EmailStr, AnyUrl, field_validator, model_validator\n",
        "from typing import List, Dict, Optional\n",
        "\n",
        "class Patient(BaseModel):\n",
        "\n",
        "  name: str\n",
        "  email: Optional[EmailStr] = None\n",
        "  website: Optional[AnyUrl] = None\n",
        "  age: int\n",
        "  weight: float\n",
        "  married: Optional[bool] = False\n",
        "  allergies: Optional[List[str]]= None\n",
        "  contact_details: Dict[str, str]\n",
        "\n",
        "  #Model validator.\n",
        "  @model_validator(mode='after')\n",
        "  def validate_emergency_contact(cls, model):\n",
        "    if model.age > 60 and 'emergency' not in model.contact_details:\n",
        "      raise ValueError(\"Pateint older then 60 require emergency contact\")\n",
        "    else:\n",
        "      return model\n",
        "\n",
        "  @field_validator('email')\n",
        "  @classmethod\n",
        "  def email_validator(cls, value):\n",
        "\n",
        "    valid_domais = ['pwc.com', 'kymeratx.com']\n",
        "    # extracting domain name from the value.\n",
        "    domain_name = value.split('@')[1]    # ['arjun','pwc.com']\n",
        "    if domain_name not in valid_domais:\n",
        "      raise ValueError('Not a valid domain')\n",
        "\n",
        "  @field_validator('name')\n",
        "  @classmethod\n",
        "  def transform_name(cls, value):\n",
        "    return value.upper()\n",
        "\n",
        "  # You can also do that using Field function. Here we want to set the limit of age usng Field validator.\n",
        "  @field_validator('age', mode = 'after')\n",
        "  @classmethod\n",
        "  def validate_age(cls, value):\n",
        "    if 0 < value < 100:\n",
        "      return value\n",
        "    else:\n",
        "      raise ValueError(\"Enter the correct age range\")\n",
        "\n",
        "\n",
        "def insert_patient_details(patient: Patient):\n",
        "  print(patient.name)\n",
        "  print(patient.age)\n",
        "  print(\"Inserted\")\n",
        "\n",
        "def update_patient_details(patient: Patient):\n",
        "  print(patient.name)\n",
        "  print(patient.age)\n",
        "  print(\"Updated\")\n",
        "\n",
        "patient_info = {\"name\": \"Arjun\", 'email': 'ar@pwc.com', \"age\": '55',\n",
        "                'weight': 72.0, \"married\": False, \"allergies\": ['nuts', 'milk'],\n",
        "                \"contact_details\": {'zip': '11800', 'phone': '7893647'}}\n",
        "\n",
        "Patient_1 = Patient(**patient_info)\n",
        "\n",
        "insert_patient_details(Patient_1)"
      ],
      "metadata": {
        "colab": {
          "base_uri": "https://localhost:8080/"
        },
        "outputId": "b260fa33-f267-4e75-ac00-03fcf6fc01d4",
        "id": "27ubr38F16wq"
      },
      "execution_count": null,
      "outputs": [
        {
          "output_type": "stream",
          "name": "stdout",
          "text": [
            "ARJUN\n",
            "55\n",
            "Inserted\n"
          ]
        }
      ]
    },
    {
      "cell_type": "markdown",
      "source": [
        "**Computed Field**\n",
        "* When you want to calculate something from the fields. Like calculating the BMI using weight and height.  "
      ],
      "metadata": {
        "id": "hb6oekQP4AUX"
      }
    },
    {
      "cell_type": "code",
      "source": [],
      "metadata": {
        "id": "S73aQM0y4A1L"
      },
      "execution_count": null,
      "outputs": []
    },
    {
      "cell_type": "code",
      "source": [
        "from pydantic import BaseModel, EmailStr, AnyUrl, computed_field\n",
        "from typing import List, Dict, Optional\n",
        "\n",
        "class Patient(BaseModel):\n",
        "\n",
        "  name: str\n",
        "  email: Optional[EmailStr] = None\n",
        "  website: Optional[AnyUrl] = None\n",
        "  age: int\n",
        "  weight: float\n",
        "  height: float\n",
        "  married: Optional[bool] = False\n",
        "  allergies: Optional[List[str]]= None\n",
        "  contact_details: Dict[str, str]\n",
        "\n",
        "  @computed_field\n",
        "  @property\n",
        "  def calculate_bmi(self) -> float:\n",
        "    bmi = round(self.weight/(self.height**2), 2)\n",
        "    return bmi\n",
        "\n",
        "def insert_patient_details(patient: Patient):\n",
        "  print(patient.name)\n",
        "  print(patient.age)\n",
        "  print(\"Inserted\")\n",
        "\n",
        "def update_patient_details(patient: Patient):\n",
        "  print(patient.name)\n",
        "  print(patient.age)\n",
        "  print(Patient(**patient_info).calculate_bmi)      # Here we are not using calculate_bmi(), we are using calculate_bmi.\n",
        "  print(\"Updated\")\n",
        "\n",
        "patient_info = {\"name\": \"Arjun\", 'email': 'ar@gmail.com', \"age\": 30,\n",
        "                'weight': 72.0, \"height\":1.72, \"married\": False, \"allergies\": ['nuts', 'milk'],\n",
        "                \"contact_details\": {'zip': '11800', 'phone': '7893647'}}\n",
        "\n",
        "Patient_1 = Patient(**patient_info)\n",
        "\n",
        "update_patient_details(Patient_1)"
      ],
      "metadata": {
        "colab": {
          "base_uri": "https://localhost:8080/"
        },
        "outputId": "8c0202f3-7653-4a0a-ea94-081d3f6939b6",
        "id": "n3BCyQBu4p02"
      },
      "execution_count": null,
      "outputs": [
        {
          "output_type": "stream",
          "name": "stdout",
          "text": [
            "Arjun\n",
            "30\n",
            "24.34\n",
            "Updated\n"
          ]
        }
      ]
    },
    {
      "cell_type": "markdown",
      "source": [
        "**Nested Models**\n",
        "\n",
        "* How to use one model into another model?\n",
        "* For eg. If we want to extract the zip code from the address it will cumbersome to write the code. So, instead of wrting the code what we can do is we can make a different class or model for that task."
      ],
      "metadata": {
        "id": "wMwzX2jO7KHx"
      }
    },
    {
      "cell_type": "code",
      "source": [
        "from pydantic import BaseModel\n",
        "\n",
        "class Address(BaseModel):\n",
        "\n",
        "  city: str\n",
        "  street: str\n",
        "  state: str\n",
        "  pin: str\n",
        "\n",
        "class Pateint(BaseModel):\n",
        "\n",
        "  name: str\n",
        "  age: int\n",
        "  weight: float\n",
        "  address: Address\n",
        "\n",
        "address_dict = {'city': \"easton\", \"street\": \"lake way\", \"state\": \"NJ\", \"pin\":\"08844\"}\n",
        "\n",
        "address1 = Address(**address_dict)\n",
        "\n",
        "patient_info = {'name': 'Arjun', \"age\" : \"30\", \"weight\" : \"72\", \"address\": address1}\n",
        "\n",
        "patient1 = Pateint(**patient_info)\n",
        "\n",
        "print(patient1)\n",
        "\n",
        "print(patient1.address.city)"
      ],
      "metadata": {
        "colab": {
          "base_uri": "https://localhost:8080/"
        },
        "id": "Yrg9ASpl7Mhm",
        "outputId": "8d572bb3-76ad-4d9f-e210-45d8b2314c18"
      },
      "execution_count": null,
      "outputs": [
        {
          "output_type": "stream",
          "name": "stdout",
          "text": [
            "name='Arjun' age=30 weight=72.0 address=Address(city='easton', street='lake way', state='NJ', pin='08844')\n",
            "easton\n"
          ]
        }
      ]
    },
    {
      "cell_type": "markdown",
      "source": [
        "Benefits of Pydantic:\n",
        "\n",
        "1. Better organization of related data (e.g., vitals, address, insurance)\n",
        "\n",
        "2. Reusability: Use Vitals in multiple models (e.g., Patient, MedicalRecord)\n",
        "\n",
        "3. Readability: Easier for developers and API consumers to understand\n",
        "\n",
        "4. Validation: Nested models are validated automatically—no extra work needed"
      ],
      "metadata": {
        "id": "ujPMfUgoCMn1"
      }
    },
    {
      "cell_type": "markdown",
      "source": [
        "Serialization\n",
        "\n",
        "* How to export pydantic models as python dictionary and JSON."
      ],
      "metadata": {
        "id": "rNtS7f3zDWS7"
      }
    },
    {
      "cell_type": "code",
      "source": [
        "from pydantic import BaseModel\n",
        "\n",
        "class Address(BaseModel):\n",
        "\n",
        "  city: str\n",
        "  street: str\n",
        "  state: str\n",
        "  pin: str\n",
        "\n",
        "class Pateint(BaseModel):\n",
        "\n",
        "  name: str\n",
        "  age: int\n",
        "  weight: float = 72.0\n",
        "  address: Address\n",
        "\n",
        "address_dict = {'city': \"easton\", \"street\": \"lake way\", \"state\": \"NJ\", \"pin\":\"08844\"}\n",
        "\n",
        "address1 = Address(**address_dict)\n",
        "\n",
        "patient_info = {'name': 'Arjun', \"age\" : \"30\", \"weight\" : \"72\", \"address\": address1}\n",
        "\n",
        "patient1 = Pateint(**patient_info)\n",
        "\n",
        "temp = patient1.model_dump()\n",
        "\n",
        "print(temp)\n",
        "print(type(temp))"
      ],
      "metadata": {
        "colab": {
          "base_uri": "https://localhost:8080/"
        },
        "id": "OfhxrTbeCoGM",
        "outputId": "dc3bc60b-23a1-42cc-a8de-baa9869ad11e"
      },
      "execution_count": null,
      "outputs": [
        {
          "output_type": "stream",
          "name": "stdout",
          "text": [
            "{'name': 'Arjun', 'age': 30, 'weight': 72.0, 'address': {'city': 'easton', 'street': 'lake way', 'state': 'NJ', 'pin': '08844'}}\n",
            "<class 'dict'>\n"
          ]
        }
      ]
    },
    {
      "cell_type": "markdown",
      "source": [
        "If you want to export only few fields."
      ],
      "metadata": {
        "id": "8R9NcgcyEN_J"
      }
    },
    {
      "cell_type": "code",
      "source": [
        "temp_incl = patient1.model_dump(include=['name', 'age'])\n",
        "print(temp_incl)\n",
        "print(type(temp_incl))"
      ],
      "metadata": {
        "colab": {
          "base_uri": "https://localhost:8080/"
        },
        "id": "86pz5v9IERsY",
        "outputId": "49358989-169d-47f8-8ffa-c314f30894fc"
      },
      "execution_count": null,
      "outputs": [
        {
          "output_type": "stream",
          "name": "stdout",
          "text": [
            "{'name': 'Arjun', 'age': 30}\n",
            "<class 'dict'>\n"
          ]
        }
      ]
    },
    {
      "cell_type": "markdown",
      "source": [
        "Using exclude."
      ],
      "metadata": {
        "id": "A7fOufluEzfz"
      }
    },
    {
      "cell_type": "code",
      "source": [
        "temp_exl = patient1.model_dump(exclude=['name', 'age'])\n",
        "print(temp_exl)\n",
        "print(type(temp_exl))"
      ],
      "metadata": {
        "colab": {
          "base_uri": "https://localhost:8080/"
        },
        "id": "5y_DW8IgEl4o",
        "outputId": "ef0a5fb5-d815-4c15-9d49-ef7cd6b8ae98"
      },
      "execution_count": null,
      "outputs": [
        {
          "output_type": "stream",
          "name": "stdout",
          "text": [
            "{'weight': 72.0, 'address': {'city': 'easton', 'street': 'lake way', 'state': 'NJ', 'pin': '08844'}}\n",
            "<class 'dict'>\n"
          ]
        }
      ]
    },
    {
      "cell_type": "markdown",
      "source": [
        "Excluding only street from address."
      ],
      "metadata": {
        "id": "kMiq6hj9E3te"
      }
    },
    {
      "cell_type": "code",
      "source": [
        "temp_exl = patient1.model_dump(exclude={'address':['street']})\n",
        "print(temp_exl)\n",
        "print(type(temp_exl))"
      ],
      "metadata": {
        "colab": {
          "base_uri": "https://localhost:8080/"
        },
        "id": "8L2Q4VwNFAB3",
        "outputId": "9a63af87-481d-4b85-d360-c7a104062be2"
      },
      "execution_count": null,
      "outputs": [
        {
          "output_type": "stream",
          "name": "stdout",
          "text": [
            "{'name': 'Arjun', 'age': 30, 'weight': 72.0, 'address': {'city': 'easton', 'state': 'NJ', 'pin': '08844'}}\n",
            "<class 'dict'>\n"
          ]
        }
      ]
    },
    {
      "cell_type": "code",
      "source": [
        "# How to not export parameters which are not defined while making objects.\n",
        "# using exclude_unset. Here I don't want to include the default value of the weight which is not define below.\n",
        "\n",
        "patient_info = {'name': 'Arjun', \"age\" : \"30\", \"address\": address1}\n",
        "patient1 = Pateint(**patient_info)\n",
        "\n",
        "temp_exl = patient1.model_dump(exclude_unset=True)\n",
        "print(temp_exl)\n",
        "print(type(temp_exl))"
      ],
      "metadata": {
        "colab": {
          "base_uri": "https://localhost:8080/"
        },
        "id": "7gCqUcJGFckf",
        "outputId": "1eb55f22-9e7a-42ab-80a5-18fb794884a9"
      },
      "execution_count": null,
      "outputs": [
        {
          "output_type": "stream",
          "name": "stdout",
          "text": [
            "{'name': 'Arjun', 'age': 30, 'address': {'city': 'easton', 'street': 'lake way', 'state': 'NJ', 'pin': '08844'}}\n",
            "<class 'dict'>\n"
          ]
        }
      ]
    }
  ]
}